{
 "cells": [
  {
   "cell_type": "markdown",
   "metadata": {},
   "source": [
    "## Data augmentation"
   ]
  },
  {
   "cell_type": "markdown",
   "metadata": {},
   "source": [
    "Our dataset is very badly equilibrated. The goal is to augmente the data with have in a few less-representated grades."
   ]
  },
  {
   "cell_type": "code",
   "execution_count": 1,
   "metadata": {},
   "outputs": [],
   "source": [
    "import pandas as pd\n",
    "import numpy as np"
   ]
  },
  {
   "cell_type": "code",
   "execution_count": 2,
   "metadata": {},
   "outputs": [
    {
     "data": {
      "text/html": [
       "<div>\n",
       "<style scoped>\n",
       "    .dataframe tbody tr th:only-of-type {\n",
       "        vertical-align: middle;\n",
       "    }\n",
       "\n",
       "    .dataframe tbody tr th {\n",
       "        vertical-align: top;\n",
       "    }\n",
       "\n",
       "    .dataframe thead th {\n",
       "        text-align: right;\n",
       "    }\n",
       "</style>\n",
       "<table border=\"1\" class=\"dataframe\">\n",
       "  <thead>\n",
       "    <tr style=\"text-align: right;\">\n",
       "      <th></th>\n",
       "      <th>date</th>\n",
       "      <th>note</th>\n",
       "      <th>auteur</th>\n",
       "      <th>avis</th>\n",
       "      <th>assureur</th>\n",
       "      <th>produit</th>\n",
       "    </tr>\n",
       "  </thead>\n",
       "  <tbody>\n",
       "    <tr>\n",
       "      <th>0</th>\n",
       "      <td>06 septem...</td>\n",
       "      <td>5</td>\n",
       "      <td>brahim--k-131532</td>\n",
       "      <td>Meilleurs assurances, prix, solutions, écoute,...</td>\n",
       "      <td>Direct Assurance</td>\n",
       "      <td>auto</td>\n",
       "    </tr>\n",
       "    <tr>\n",
       "      <th>1</th>\n",
       "      <td>03 mai 20...</td>\n",
       "      <td>4</td>\n",
       "      <td>bernard-g-112497</td>\n",
       "      <td>je suis globalement satisfait , sauf que vous ...</td>\n",
       "      <td>Direct Assurance</td>\n",
       "      <td>auto</td>\n",
       "    </tr>\n",
       "    <tr>\n",
       "      <th>2</th>\n",
       "      <td>21 mars 2...</td>\n",
       "      <td>5</td>\n",
       "      <td>virginie-t-107352</td>\n",
       "      <td>Prix tres abordable plusieurs options s'offren...</td>\n",
       "      <td>Direct Assurance</td>\n",
       "      <td>auto</td>\n",
       "    </tr>\n",
       "    <tr>\n",
       "      <th>3</th>\n",
       "      <td>10 juin 2...</td>\n",
       "      <td>4</td>\n",
       "      <td>boulain-f-116580</td>\n",
       "      <td>je satisfait du service, une réponse très rapi...</td>\n",
       "      <td>L'olivier Assurance</td>\n",
       "      <td>auto</td>\n",
       "    </tr>\n",
       "    <tr>\n",
       "      <th>4</th>\n",
       "      <td>29 janvie...</td>\n",
       "      <td>1</td>\n",
       "      <td>ouaille31-51798</td>\n",
       "      <td>Client depuis plus de 25 ans, très déçu de cet...</td>\n",
       "      <td>Matmut</td>\n",
       "      <td>auto</td>\n",
       "    </tr>\n",
       "    <tr>\n",
       "      <th>...</th>\n",
       "      <td>...</td>\n",
       "      <td>...</td>\n",
       "      <td>...</td>\n",
       "      <td>...</td>\n",
       "      <td>...</td>\n",
       "      <td>...</td>\n",
       "    </tr>\n",
       "    <tr>\n",
       "      <th>24100</th>\n",
       "      <td>22 mars 2...</td>\n",
       "      <td>1</td>\n",
       "      <td>hophop-107522</td>\n",
       "      <td>Assurance moto chez la mutuel des motards en F...</td>\n",
       "      <td>Mutuelle des Motards</td>\n",
       "      <td>moto</td>\n",
       "    </tr>\n",
       "    <tr>\n",
       "      <th>24101</th>\n",
       "      <td>06 décemb...</td>\n",
       "      <td>1</td>\n",
       "      <td>tzl-81680</td>\n",
       "      <td>Même les demandes les plus simples n'aboutisse...</td>\n",
       "      <td>Allianz</td>\n",
       "      <td>habitation</td>\n",
       "    </tr>\n",
       "    <tr>\n",
       "      <th>24102</th>\n",
       "      <td>14 avril ...</td>\n",
       "      <td>1</td>\n",
       "      <td>jmr-72500-110395</td>\n",
       "      <td>En décembre 2019, j'ai souscrit à un contrat C...</td>\n",
       "      <td>Cegema Assurances</td>\n",
       "      <td>sante</td>\n",
       "    </tr>\n",
       "    <tr>\n",
       "      <th>24103</th>\n",
       "      <td>11 juille...</td>\n",
       "      <td>3</td>\n",
       "      <td>cris-77532</td>\n",
       "      <td>Je suis assurer à la gmf depuis plus de 15 ans...</td>\n",
       "      <td>GMF</td>\n",
       "      <td>auto</td>\n",
       "    </tr>\n",
       "    <tr>\n",
       "      <th>24104</th>\n",
       "      <td>19 janvie...</td>\n",
       "      <td>1</td>\n",
       "      <td>jesse-51459</td>\n",
       "      <td>Bonjour\\r\\nMon ami vient de se faire voler sa ...</td>\n",
       "      <td>AMV</td>\n",
       "      <td>moto</td>\n",
       "    </tr>\n",
       "  </tbody>\n",
       "</table>\n",
       "<p>24105 rows × 6 columns</p>\n",
       "</div>"
      ],
      "text/plain": [
       "                                                    date  note  \\\n",
       "0                                           06 septem...     5   \n",
       "1                                           03 mai 20...     4   \n",
       "2                                           21 mars 2...     5   \n",
       "3                                           10 juin 2...     4   \n",
       "4                                           29 janvie...     1   \n",
       "...                                                  ...   ...   \n",
       "24100                                       22 mars 2...     1   \n",
       "24101                                       06 décemb...     1   \n",
       "24102                                       14 avril ...     1   \n",
       "24103                                       11 juille...     3   \n",
       "24104                                       19 janvie...     1   \n",
       "\n",
       "                  auteur                                               avis  \\\n",
       "0       brahim--k-131532  Meilleurs assurances, prix, solutions, écoute,...   \n",
       "1       bernard-g-112497  je suis globalement satisfait , sauf que vous ...   \n",
       "2      virginie-t-107352  Prix tres abordable plusieurs options s'offren...   \n",
       "3       boulain-f-116580  je satisfait du service, une réponse très rapi...   \n",
       "4        ouaille31-51798  Client depuis plus de 25 ans, très déçu de cet...   \n",
       "...                  ...                                                ...   \n",
       "24100      hophop-107522  Assurance moto chez la mutuel des motards en F...   \n",
       "24101          tzl-81680  Même les demandes les plus simples n'aboutisse...   \n",
       "24102   jmr-72500-110395  En décembre 2019, j'ai souscrit à un contrat C...   \n",
       "24103         cris-77532  Je suis assurer à la gmf depuis plus de 15 ans...   \n",
       "24104        jesse-51459  Bonjour\\r\\nMon ami vient de se faire voler sa ...   \n",
       "\n",
       "                   assureur     produit  \n",
       "0          Direct Assurance        auto  \n",
       "1          Direct Assurance        auto  \n",
       "2          Direct Assurance        auto  \n",
       "3       L'olivier Assurance        auto  \n",
       "4                    Matmut        auto  \n",
       "...                     ...         ...  \n",
       "24100  Mutuelle des Motards        moto  \n",
       "24101               Allianz  habitation  \n",
       "24102     Cegema Assurances       sante  \n",
       "24103                   GMF        auto  \n",
       "24104                   AMV        moto  \n",
       "\n",
       "[24105 rows x 6 columns]"
      ]
     },
     "execution_count": 2,
     "metadata": {},
     "output_type": "execute_result"
    }
   ],
   "source": [
    "train = pd.read_csv(\"..//datasets//avisassurance_train.csv\", encoding=\"utf-8\", sep = \";\")\n",
    "train"
   ]
  },
  {
   "cell_type": "code",
   "execution_count": 3,
   "metadata": {},
   "outputs": [],
   "source": [
    "import gensim.downloader as api"
   ]
  },
  {
   "cell_type": "code",
   "execution_count": 13,
   "metadata": {},
   "outputs": [
    {
     "name": "stdout",
     "output_type": "stream",
     "text": [
      "[==================================================] 100.0% 1662.8/1662.8MB downloaded\n"
     ]
    },
    {
     "data": {
      "text/plain": [
       "[('amazing', 0.8282865285873413),\n",
       " ('unbelievable', 0.7464959621429443),\n",
       " ('fantastic', 0.7453290224075317),\n",
       " ('incredible', 0.7390913963317871),\n",
       " ('unbelieveable', 0.6678115725517273)]"
      ]
     },
     "execution_count": 13,
     "metadata": {},
     "output_type": "execute_result"
    }
   ],
   "source": [
    "twitter_25_model = api.load('word2vec-google-news-300')  \n",
    "twitter_25_model.most_similar('awesome', topn=5)"
   ]
  },
  {
   "cell_type": "code",
   "execution_count": 5,
   "metadata": {},
   "outputs": [
    {
     "data": {
      "text/plain": [
       "'mad'"
      ]
     },
     "execution_count": 5,
     "metadata": {},
     "output_type": "execute_result"
    }
   ],
   "source": [
    "twitter_25_model.most_similar('crazy')[0][0]"
   ]
  },
  {
   "cell_type": "markdown",
   "metadata": {},
   "source": [
    "## Plan"
   ]
  },
  {
   "cell_type": "markdown",
   "metadata": {},
   "source": [
    "##### 1- Traduction from french to english\n",
    "##### 2- Replacing a few words from the review with most similar one (using gensim most_similar)\n",
    "##### 3- Traduction from english to french\n",
    "##### 4- Adding data with the new review to our dataset"
   ]
  },
  {
   "cell_type": "markdown",
   "metadata": {},
   "source": [
    "Choosing a test review randomly"
   ]
  },
  {
   "cell_type": "code",
   "execution_count": 77,
   "metadata": {},
   "outputs": [
    {
     "data": {
      "text/plain": [
       "'[\"très déçue.\\\\r\\\\nmon premier avis a été rejeté alors je le rédige en termes qui peuvent plaire. lorsque l\\'on contacte l\\'assurance pour demander des renseignements on en parle jamais des franchises appliquées : -15 € pour toute consultation de moins de 75 € - 0€ remboursement  pour tout médicament de moins de 15€. c\\'est parfait ! c\\'est très honnête ! je l\\'aurai su je n\\'aurais pas pris cette assurance. c\\'est pas grave, on résiliera !\"]'"
      ]
     },
     "execution_count": 77,
     "metadata": {},
     "output_type": "execute_result"
    }
   ],
   "source": [
    "test_row = train.sample(n = 1)\n",
    "test_original = str(test_row['avis'].values)\n",
    "test_note = int(test_row['note'].values)\n",
    "test_original"
   ]
  },
  {
   "cell_type": "code",
   "execution_count": 78,
   "metadata": {},
   "outputs": [
    {
     "data": {
      "text/plain": [
       "'[\"très déçue.mon premier avis a été rejeté alors je le rédige en termes qui peuvent plaire. lorsque l\\'on contacte l\\'assurance pour demander des renseignements on en parle jamais des franchises appliquées : -15 € pour toute consultation de moins de 75 € - 0€ remboursement  pour tout médicament de moins de 15€. c\\'est parfait ! c\\'est très honnête ! je l\\'aurai su je n\\'aurais pas pris cette assurance. c\\'est pas grave, on résiliera !\"]'"
      ]
     },
     "execution_count": 78,
     "metadata": {},
     "output_type": "execute_result"
    }
   ],
   "source": [
    "test_original = test_original.replace('\\\\n', '')\n",
    "test_original = test_original.replace('\\\\r', '')\n",
    "test_original"
   ]
  },
  {
   "cell_type": "markdown",
   "metadata": {},
   "source": [
    "----------------------------\n",
    "##### 1- Traduction from french to english"
   ]
  },
  {
   "cell_type": "code",
   "execution_count": 79,
   "metadata": {},
   "outputs": [],
   "source": [
    "from googletrans import Translator\n",
    "translator = Translator()\n",
    "\n",
    "def translation_dest_src(review: str, source: str = 'fr', destination: str = 'en') -> str:\n",
    "    return translator.translate(review, src = source, dest = destination).text"
   ]
  },
  {
   "cell_type": "code",
   "execution_count": 80,
   "metadata": {},
   "outputs": [
    {
     "data": {
      "text/plain": [
       "'[\"Very disappointed. My first opinion has been rejected then I draft it in terms that can please. When contacting insurance to ask for information we never talk about applied franchises: -15 € for any consultation of less than75 € - 0 € Refund for any medicine of less than 15 €. It is perfect! It is very honest! I will have known I would not have taken this insurance. It does not matter, we will cancel! \"]'"
      ]
     },
     "execution_count": 80,
     "metadata": {},
     "output_type": "execute_result"
    }
   ],
   "source": [
    "test_en = translation_dest_src(test_original,\n",
    "                source = 'fr',\n",
    "                destination = 'en')\n",
    "test_en"
   ]
  },
  {
   "cell_type": "markdown",
   "metadata": {},
   "source": [
    "--------------------------------\n",
    "##### 2- Replacing a few words from the review with most similar one (using gensim most_similar)"
   ]
  },
  {
   "cell_type": "markdown",
   "metadata": {},
   "source": [
    "The idea is to pick random words in our review and replace them with similar others. We will try with a different ratio replacement to see how it reacts."
   ]
  },
  {
   "cell_type": "code",
   "execution_count": 81,
   "metadata": {},
   "outputs": [],
   "source": [
    "from random import choice\n",
    "\n",
    "def get_most_similar_word(word: str) -> str:\n",
    "    # Trying to get the most similar word\n",
    "    try:\n",
    "        return twitter_25_model.most_similar(word.lower())[0][0]\n",
    "    # If not returning the original word\n",
    "    except:\n",
    "        print(\"Couldn't find the most similar word.\")\n",
    "        return word\n",
    "\n",
    "def word_replacement(review_eng: str, replacement_ratio: float = 0.5) -> str:\n",
    "    # Splitting the review by words and counting the number of words\n",
    "    review_eng_words = review_eng.split()\n",
    "    nb_words = len(review_eng_words)\n",
    "\n",
    "    # Counting the number of words to replace\n",
    "    nb_words_to_change = int(nb_words*replacement_ratio)\n",
    "\n",
    "    # Creating a list with the placement of changed words, so we don't change twice the same word (could result as getting back to original)\n",
    "    word_placement_changed = list()\n",
    "    for words in range(nb_words_to_change):\n",
    "        # Getting a random int as the word to change\n",
    "        word_placement = choice([_ for _ in range(nb_words) if _ not in word_placement_changed])\n",
    "\n",
    "        # Replacing the original word with the most similar one\n",
    "        review_eng_words[word_placement] = get_most_similar_word(review_eng_words[word_placement])\n",
    "\n",
    "        # Appending the word placement in our list to avoid changing twice the same\n",
    "        word_placement_changed.append(word_placement)\n",
    "        # print(' '.join(review_eng_words))\n",
    "\n",
    "    return (' '.join(review_eng_words))"
   ]
  },
  {
   "cell_type": "code",
   "execution_count": 72,
   "metadata": {},
   "outputs": [
    {
     "name": "stdout",
     "output_type": "stream",
     "text": [
      "Couldn't find the most similar word.\n",
      "Couldn't find the most similar word.\n",
      "Couldn't find the most similar word.\n",
      "Couldn't find the most similar word.\n",
      "Couldn't find the most similar word.\n",
      "Couldn't find the most similar word.\n",
      "Couldn't find the most similar word.\n",
      "Couldn't find the most similar word.\n",
      "Couldn't find the most similar word.\n",
      "Couldn't find the most similar word.\n",
      "Couldn't find the most similar word.\n",
      "Couldn't find the most similar word.\n"
     ]
    },
    {
     "data": {
      "text/plain": [
       "'[\"Prices are attractive, and easy and quick subscription. But before it gets complicated: 3 months I\\'m attempting to changes bank coordinates, now do taken intothe accounts ..The email response come within An very short time (10 weeks forthe in this end Do do changes the ribs properly!) though the endorsement were complicated: ive altered home, and at first ive recieve this amendment to the wrong date of effect, when this dates is correct butThere was An error inthe my names .. Brief, I know it as soon as my contracts has 1 year ago, I change insurer! \"]'"
      ]
     },
     "execution_count": 72,
     "metadata": {},
     "output_type": "execute_result"
    }
   ],
   "source": [
    "test_replaced = word_replacement(test_en, 0.5)\n",
    "test_replaced = test_replaced.replace('_', ' ')\n",
    "test_replaced"
   ]
  },
  {
   "cell_type": "markdown",
   "metadata": {},
   "source": [
    "--------------------------------\n",
    "##### 3- Traduction from english to french"
   ]
  },
  {
   "cell_type": "code",
   "execution_count": 73,
   "metadata": {},
   "outputs": [
    {
     "data": {
      "text/plain": [
       "\"Les prix sont attrayants et un abonnement facile et rapide. Mais avant qu'il ne soit compliqué: 3 mois, je tente de modifier les coordonnées bancaires, faites maintenant des comptes de la banque. La réponse par e-mail vient dans un délai très court (10 semaines surCette fin change les nervures correctement!) Bien que l'endossement ait été compliquée: ive altéré à la maison et, au premier abord, recevez cet amendement à la mauvaise date d'effet, lorsque ces dates sont correctes, il y avait une erreur dans mes noms ..Je le sais dès que mes contrats y ont 1 an, je change d'assureur! \""
      ]
     },
     "execution_count": 73,
     "metadata": {},
     "output_type": "execute_result"
    }
   ],
   "source": [
    "test_replaced = translation_dest_src(test_replaced, source= 'en', destination= 'fr')[2:-2]\n",
    "test_replaced"
   ]
  },
  {
   "cell_type": "code",
   "execution_count": 74,
   "metadata": {},
   "outputs": [
    {
     "data": {
      "text/plain": [
       "'[\"les prix sont attractifs, et la souscription facile et rapide.Mais après ca se complique : 2 mois que j\\'essaie de changer de coordonnées bancaires, toujours pas prise en compte ..Les réponses aux mails parviennent dans un délai extrêmement long ( 10 jours pour au final ne pas changer le rib correctement!)Même les avenants sont compliqués : j\\'ai changé de domicile, et dans un premier temps je reçois l\\'avenant à la mauvaise date d\\'effet, puis la date est correcte mais il y a une erreur dans mon nom ..!Bref, je pense que dès que mon contrat aura 1 an révolu, je change d\\'assureur!\"]'"
      ]
     },
     "execution_count": 74,
     "metadata": {},
     "output_type": "execute_result"
    }
   ],
   "source": [
    "test_original"
   ]
  },
  {
   "cell_type": "markdown",
   "metadata": {},
   "source": [
    "--------------------------------\n",
    "##### 4- Adding data with the new review to our dataset"
   ]
  },
  {
   "cell_type": "code",
   "execution_count": 75,
   "metadata": {},
   "outputs": [],
   "source": [
    "def add_row(review: str, review_note: int):\n",
    "    train.loc[len(train.index)] = ['data augmentation', review_note, 'data augmentation', review, None, None]"
   ]
  },
  {
   "cell_type": "code",
   "execution_count": 76,
   "metadata": {},
   "outputs": [
    {
     "data": {
      "text/html": [
       "<div>\n",
       "<style scoped>\n",
       "    .dataframe tbody tr th:only-of-type {\n",
       "        vertical-align: middle;\n",
       "    }\n",
       "\n",
       "    .dataframe tbody tr th {\n",
       "        vertical-align: top;\n",
       "    }\n",
       "\n",
       "    .dataframe thead th {\n",
       "        text-align: right;\n",
       "    }\n",
       "</style>\n",
       "<table border=\"1\" class=\"dataframe\">\n",
       "  <thead>\n",
       "    <tr style=\"text-align: right;\">\n",
       "      <th></th>\n",
       "      <th>date</th>\n",
       "      <th>note</th>\n",
       "      <th>auteur</th>\n",
       "      <th>avis</th>\n",
       "      <th>assureur</th>\n",
       "      <th>produit</th>\n",
       "    </tr>\n",
       "  </thead>\n",
       "  <tbody>\n",
       "    <tr>\n",
       "      <th>0</th>\n",
       "      <td>06 septem...</td>\n",
       "      <td>5</td>\n",
       "      <td>brahim--k-131532</td>\n",
       "      <td>Meilleurs assurances, prix, solutions, écoute,...</td>\n",
       "      <td>Direct Assurance</td>\n",
       "      <td>auto</td>\n",
       "    </tr>\n",
       "    <tr>\n",
       "      <th>1</th>\n",
       "      <td>03 mai 20...</td>\n",
       "      <td>4</td>\n",
       "      <td>bernard-g-112497</td>\n",
       "      <td>je suis globalement satisfait , sauf que vous ...</td>\n",
       "      <td>Direct Assurance</td>\n",
       "      <td>auto</td>\n",
       "    </tr>\n",
       "    <tr>\n",
       "      <th>2</th>\n",
       "      <td>21 mars 2...</td>\n",
       "      <td>5</td>\n",
       "      <td>virginie-t-107352</td>\n",
       "      <td>Prix tres abordable plusieurs options s'offren...</td>\n",
       "      <td>Direct Assurance</td>\n",
       "      <td>auto</td>\n",
       "    </tr>\n",
       "    <tr>\n",
       "      <th>3</th>\n",
       "      <td>10 juin 2...</td>\n",
       "      <td>4</td>\n",
       "      <td>boulain-f-116580</td>\n",
       "      <td>je satisfait du service, une réponse très rapi...</td>\n",
       "      <td>L'olivier Assurance</td>\n",
       "      <td>auto</td>\n",
       "    </tr>\n",
       "    <tr>\n",
       "      <th>4</th>\n",
       "      <td>29 janvie...</td>\n",
       "      <td>1</td>\n",
       "      <td>ouaille31-51798</td>\n",
       "      <td>Client depuis plus de 25 ans, très déçu de cet...</td>\n",
       "      <td>Matmut</td>\n",
       "      <td>auto</td>\n",
       "    </tr>\n",
       "    <tr>\n",
       "      <th>...</th>\n",
       "      <td>...</td>\n",
       "      <td>...</td>\n",
       "      <td>...</td>\n",
       "      <td>...</td>\n",
       "      <td>...</td>\n",
       "      <td>...</td>\n",
       "    </tr>\n",
       "    <tr>\n",
       "      <th>24105</th>\n",
       "      <td>data augmentation</td>\n",
       "      <td>4</td>\n",
       "      <td>data augmentation</td>\n",
       "      <td>['Je remercie Emeline qui savait quoi me donne...</td>\n",
       "      <td>None</td>\n",
       "      <td>None</td>\n",
       "    </tr>\n",
       "    <tr>\n",
       "      <th>24106</th>\n",
       "      <td>data augmentation</td>\n",
       "      <td>4</td>\n",
       "      <td>data augmentation</td>\n",
       "      <td>JE Remerciie Emeline Qui Saviter Quoi Me Donne...</td>\n",
       "      <td>None</td>\n",
       "      <td>None</td>\n",
       "    </tr>\n",
       "    <tr>\n",
       "      <th>24107</th>\n",
       "      <td>data augmentation</td>\n",
       "      <td>4</td>\n",
       "      <td>data augmentation</td>\n",
       "      <td>Toujours trop coûteux des contributions à mon ...</td>\n",
       "      <td>None</td>\n",
       "      <td>None</td>\n",
       "    </tr>\n",
       "    <tr>\n",
       "      <th>24108</th>\n",
       "      <td>data augmentation</td>\n",
       "      <td>4</td>\n",
       "      <td>data augmentation</td>\n",
       "      <td>Je suis insatisfait que ce prix nous convient ...</td>\n",
       "      <td>None</td>\n",
       "      <td>None</td>\n",
       "    </tr>\n",
       "    <tr>\n",
       "      <th>24109</th>\n",
       "      <td>data augmentation</td>\n",
       "      <td>2</td>\n",
       "      <td>data augmentation</td>\n",
       "      <td>Les prix sont attrayants et un abonnement faci...</td>\n",
       "      <td>None</td>\n",
       "      <td>None</td>\n",
       "    </tr>\n",
       "  </tbody>\n",
       "</table>\n",
       "<p>24110 rows × 6 columns</p>\n",
       "</div>"
      ],
      "text/plain": [
       "                                                    date  note  \\\n",
       "0                                           06 septem...     5   \n",
       "1                                           03 mai 20...     4   \n",
       "2                                           21 mars 2...     5   \n",
       "3                                           10 juin 2...     4   \n",
       "4                                           29 janvie...     1   \n",
       "...                                                  ...   ...   \n",
       "24105                                  data augmentation     4   \n",
       "24106                                  data augmentation     4   \n",
       "24107                                  data augmentation     4   \n",
       "24108                                  data augmentation     4   \n",
       "24109                                  data augmentation     2   \n",
       "\n",
       "                  auteur                                               avis  \\\n",
       "0       brahim--k-131532  Meilleurs assurances, prix, solutions, écoute,...   \n",
       "1       bernard-g-112497  je suis globalement satisfait , sauf que vous ...   \n",
       "2      virginie-t-107352  Prix tres abordable plusieurs options s'offren...   \n",
       "3       boulain-f-116580  je satisfait du service, une réponse très rapi...   \n",
       "4        ouaille31-51798  Client depuis plus de 25 ans, très déçu de cet...   \n",
       "...                  ...                                                ...   \n",
       "24105  data augmentation  ['Je remercie Emeline qui savait quoi me donne...   \n",
       "24106  data augmentation  JE Remerciie Emeline Qui Saviter Quoi Me Donne...   \n",
       "24107  data augmentation  Toujours trop coûteux des contributions à mon ...   \n",
       "24108  data augmentation  Je suis insatisfait que ce prix nous convient ...   \n",
       "24109  data augmentation  Les prix sont attrayants et un abonnement faci...   \n",
       "\n",
       "                  assureur produit  \n",
       "0         Direct Assurance    auto  \n",
       "1         Direct Assurance    auto  \n",
       "2         Direct Assurance    auto  \n",
       "3      L'olivier Assurance    auto  \n",
       "4                   Matmut    auto  \n",
       "...                    ...     ...  \n",
       "24105                 None    None  \n",
       "24106                 None    None  \n",
       "24107                 None    None  \n",
       "24108                 None    None  \n",
       "24109                 None    None  \n",
       "\n",
       "[24110 rows x 6 columns]"
      ]
     },
     "execution_count": 76,
     "metadata": {},
     "output_type": "execute_result"
    }
   ],
   "source": [
    "add_row(test_replaced, test_note)\n",
    "train"
   ]
  }
 ],
 "metadata": {
  "interpreter": {
   "hash": "0cc9f1055cb39f498be8001f189a9e7c470982dd67349dd3dfc8b1e60e90fbe8"
  },
  "kernelspec": {
   "display_name": "Python 3.9.7 64-bit ('reviews_class': conda)",
   "language": "python",
   "name": "python3"
  },
  "language_info": {
   "codemirror_mode": {
    "name": "ipython",
    "version": 3
   },
   "file_extension": ".py",
   "mimetype": "text/x-python",
   "name": "python",
   "nbconvert_exporter": "python",
   "pygments_lexer": "ipython3",
   "version": "3.9.7"
  },
  "orig_nbformat": 4
 },
 "nbformat": 4,
 "nbformat_minor": 2
}
