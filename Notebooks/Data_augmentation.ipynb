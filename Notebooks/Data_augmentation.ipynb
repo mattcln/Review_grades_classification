{
 "cells": [
  {
   "cell_type": "markdown",
   "metadata": {},
   "source": [
    "## Data augmentation"
   ]
  },
  {
   "cell_type": "markdown",
   "metadata": {},
   "source": [
    "Our dataset is very badly equilibrated. The goal is to augmente the data with have in a few less-representated grades."
   ]
  },
  {
   "cell_type": "code",
   "execution_count": 1,
   "metadata": {},
   "outputs": [],
   "source": [
    "import pandas as pd\n",
    "import numpy as np"
   ]
  },
  {
   "cell_type": "code",
   "execution_count": 2,
   "metadata": {},
   "outputs": [
    {
     "data": {
      "text/html": [
       "<div>\n",
       "<style scoped>\n",
       "    .dataframe tbody tr th:only-of-type {\n",
       "        vertical-align: middle;\n",
       "    }\n",
       "\n",
       "    .dataframe tbody tr th {\n",
       "        vertical-align: top;\n",
       "    }\n",
       "\n",
       "    .dataframe thead th {\n",
       "        text-align: right;\n",
       "    }\n",
       "</style>\n",
       "<table border=\"1\" class=\"dataframe\">\n",
       "  <thead>\n",
       "    <tr style=\"text-align: right;\">\n",
       "      <th></th>\n",
       "      <th>date</th>\n",
       "      <th>note</th>\n",
       "      <th>auteur</th>\n",
       "      <th>avis</th>\n",
       "      <th>assureur</th>\n",
       "      <th>produit</th>\n",
       "    </tr>\n",
       "  </thead>\n",
       "  <tbody>\n",
       "    <tr>\n",
       "      <th>0</th>\n",
       "      <td>06 septem...</td>\n",
       "      <td>5</td>\n",
       "      <td>brahim--k-131532</td>\n",
       "      <td>Meilleurs assurances, prix, solutions, écoute,...</td>\n",
       "      <td>Direct Assurance</td>\n",
       "      <td>auto</td>\n",
       "    </tr>\n",
       "    <tr>\n",
       "      <th>1</th>\n",
       "      <td>03 mai 20...</td>\n",
       "      <td>4</td>\n",
       "      <td>bernard-g-112497</td>\n",
       "      <td>je suis globalement satisfait , sauf que vous ...</td>\n",
       "      <td>Direct Assurance</td>\n",
       "      <td>auto</td>\n",
       "    </tr>\n",
       "    <tr>\n",
       "      <th>2</th>\n",
       "      <td>21 mars 2...</td>\n",
       "      <td>5</td>\n",
       "      <td>virginie-t-107352</td>\n",
       "      <td>Prix tres abordable plusieurs options s'offren...</td>\n",
       "      <td>Direct Assurance</td>\n",
       "      <td>auto</td>\n",
       "    </tr>\n",
       "    <tr>\n",
       "      <th>3</th>\n",
       "      <td>10 juin 2...</td>\n",
       "      <td>4</td>\n",
       "      <td>boulain-f-116580</td>\n",
       "      <td>je satisfait du service, une réponse très rapi...</td>\n",
       "      <td>L'olivier Assurance</td>\n",
       "      <td>auto</td>\n",
       "    </tr>\n",
       "    <tr>\n",
       "      <th>4</th>\n",
       "      <td>29 janvie...</td>\n",
       "      <td>1</td>\n",
       "      <td>ouaille31-51798</td>\n",
       "      <td>Client depuis plus de 25 ans, très déçu de cet...</td>\n",
       "      <td>Matmut</td>\n",
       "      <td>auto</td>\n",
       "    </tr>\n",
       "    <tr>\n",
       "      <th>...</th>\n",
       "      <td>...</td>\n",
       "      <td>...</td>\n",
       "      <td>...</td>\n",
       "      <td>...</td>\n",
       "      <td>...</td>\n",
       "      <td>...</td>\n",
       "    </tr>\n",
       "    <tr>\n",
       "      <th>24100</th>\n",
       "      <td>22 mars 2...</td>\n",
       "      <td>1</td>\n",
       "      <td>hophop-107522</td>\n",
       "      <td>Assurance moto chez la mutuel des motards en F...</td>\n",
       "      <td>Mutuelle des Motards</td>\n",
       "      <td>moto</td>\n",
       "    </tr>\n",
       "    <tr>\n",
       "      <th>24101</th>\n",
       "      <td>06 décemb...</td>\n",
       "      <td>1</td>\n",
       "      <td>tzl-81680</td>\n",
       "      <td>Même les demandes les plus simples n'aboutisse...</td>\n",
       "      <td>Allianz</td>\n",
       "      <td>habitation</td>\n",
       "    </tr>\n",
       "    <tr>\n",
       "      <th>24102</th>\n",
       "      <td>14 avril ...</td>\n",
       "      <td>1</td>\n",
       "      <td>jmr-72500-110395</td>\n",
       "      <td>En décembre 2019, j'ai souscrit à un contrat C...</td>\n",
       "      <td>Cegema Assurances</td>\n",
       "      <td>sante</td>\n",
       "    </tr>\n",
       "    <tr>\n",
       "      <th>24103</th>\n",
       "      <td>11 juille...</td>\n",
       "      <td>3</td>\n",
       "      <td>cris-77532</td>\n",
       "      <td>Je suis assurer à la gmf depuis plus de 15 ans...</td>\n",
       "      <td>GMF</td>\n",
       "      <td>auto</td>\n",
       "    </tr>\n",
       "    <tr>\n",
       "      <th>24104</th>\n",
       "      <td>19 janvie...</td>\n",
       "      <td>1</td>\n",
       "      <td>jesse-51459</td>\n",
       "      <td>Bonjour\\r\\nMon ami vient de se faire voler sa ...</td>\n",
       "      <td>AMV</td>\n",
       "      <td>moto</td>\n",
       "    </tr>\n",
       "  </tbody>\n",
       "</table>\n",
       "<p>24105 rows × 6 columns</p>\n",
       "</div>"
      ],
      "text/plain": [
       "                                                    date  note  \\\n",
       "0                                           06 septem...     5   \n",
       "1                                           03 mai 20...     4   \n",
       "2                                           21 mars 2...     5   \n",
       "3                                           10 juin 2...     4   \n",
       "4                                           29 janvie...     1   \n",
       "...                                                  ...   ...   \n",
       "24100                                       22 mars 2...     1   \n",
       "24101                                       06 décemb...     1   \n",
       "24102                                       14 avril ...     1   \n",
       "24103                                       11 juille...     3   \n",
       "24104                                       19 janvie...     1   \n",
       "\n",
       "                  auteur                                               avis  \\\n",
       "0       brahim--k-131532  Meilleurs assurances, prix, solutions, écoute,...   \n",
       "1       bernard-g-112497  je suis globalement satisfait , sauf que vous ...   \n",
       "2      virginie-t-107352  Prix tres abordable plusieurs options s'offren...   \n",
       "3       boulain-f-116580  je satisfait du service, une réponse très rapi...   \n",
       "4        ouaille31-51798  Client depuis plus de 25 ans, très déçu de cet...   \n",
       "...                  ...                                                ...   \n",
       "24100      hophop-107522  Assurance moto chez la mutuel des motards en F...   \n",
       "24101          tzl-81680  Même les demandes les plus simples n'aboutisse...   \n",
       "24102   jmr-72500-110395  En décembre 2019, j'ai souscrit à un contrat C...   \n",
       "24103         cris-77532  Je suis assurer à la gmf depuis plus de 15 ans...   \n",
       "24104        jesse-51459  Bonjour\\r\\nMon ami vient de se faire voler sa ...   \n",
       "\n",
       "                   assureur     produit  \n",
       "0          Direct Assurance        auto  \n",
       "1          Direct Assurance        auto  \n",
       "2          Direct Assurance        auto  \n",
       "3       L'olivier Assurance        auto  \n",
       "4                    Matmut        auto  \n",
       "...                     ...         ...  \n",
       "24100  Mutuelle des Motards        moto  \n",
       "24101               Allianz  habitation  \n",
       "24102     Cegema Assurances       sante  \n",
       "24103                   GMF        auto  \n",
       "24104                   AMV        moto  \n",
       "\n",
       "[24105 rows x 6 columns]"
      ]
     },
     "execution_count": 2,
     "metadata": {},
     "output_type": "execute_result"
    }
   ],
   "source": [
    "df = pd.read_csv(\"..//datasets//avisassurance.csv\", encoding=\"utf-8\", sep = \";\")\n",
    "df"
   ]
  },
  {
   "cell_type": "code",
   "execution_count": 3,
   "metadata": {},
   "outputs": [
    {
     "name": "stderr",
     "output_type": "stream",
     "text": [
      "C:\\Users\\matth\\miniconda3\\envs\\reviews_class\\lib\\site-packages\\gensim\\similarities\\__init__.py:15: UserWarning: The gensim.similarities.levenshtein submodule is disabled, because the optional Levenshtein package <https://pypi.org/project/python-Levenshtein/> is unavailable. Install Levenhstein (e.g. `pip install python-Levenshtein`) to suppress this warning.\n",
      "  warnings.warn(msg)\n"
     ]
    }
   ],
   "source": [
    "import gensim.downloader as api"
   ]
  },
  {
   "cell_type": "code",
   "execution_count": 4,
   "metadata": {},
   "outputs": [
    {
     "data": {
      "text/plain": [
       "[('amazing', 0.9687871932983398),\n",
       " ('best', 0.9600659608840942),\n",
       " ('fun', 0.9331520795822144),\n",
       " ('fantastic', 0.9313924312591553),\n",
       " ('perfect', 0.92434161901474)]"
      ]
     },
     "execution_count": 4,
     "metadata": {},
     "output_type": "execute_result"
    }
   ],
   "source": [
    "# Biggest model\n",
    "# twitter_25_model = api.load('word2vec-google-news-300')\n",
    "\n",
    "# Smaller model but might be more efficient (language might be more revelant with tweets than with news)\n",
    "twitter_25_model = api.load('glove-twitter-25')  \n",
    "twitter_25_model.most_similar('awesome', topn=5)"
   ]
  },
  {
   "cell_type": "code",
   "execution_count": 5,
   "metadata": {},
   "outputs": [
    {
     "data": {
      "text/plain": [
       "'mad'"
      ]
     },
     "execution_count": 5,
     "metadata": {},
     "output_type": "execute_result"
    }
   ],
   "source": [
    "twitter_25_model.most_similar('crazy')[0][0]"
   ]
  },
  {
   "cell_type": "markdown",
   "metadata": {},
   "source": [
    "## Plan"
   ]
  },
  {
   "cell_type": "markdown",
   "metadata": {},
   "source": [
    "##### 1- Traduction from french to english\n",
    "##### 2- Replacing a few words from the review with most similar one (using gensim most_similar)\n",
    "##### 3- Traduction from english to french\n",
    "##### 4- Adding data with the new review to our dataset"
   ]
  },
  {
   "cell_type": "markdown",
   "metadata": {},
   "source": [
    "Choosing a test review randomly"
   ]
  },
  {
   "cell_type": "code",
   "execution_count": 6,
   "metadata": {},
   "outputs": [],
   "source": [
    "def random_review_note(df, note:int) -> list():\n",
    "    row = df[df['note'] == note].sample(n=1)\n",
    "    avis = str(row['avis'].values)\n",
    "    note = int(row['note'].values)\n",
    "    produit = str(row['produit'].values)\n",
    "    assureur = str(row['assureur'].values)\n",
    "    return [avis, note, produit, assureur]"
   ]
  },
  {
   "cell_type": "code",
   "execution_count": 7,
   "metadata": {},
   "outputs": [
    {
     "name": "stdout",
     "output_type": "stream",
     "text": [
      "[\"si je pouvais mettre moins, je le ferai, je déteste donner un avis négatif.\\r\\nMais là... il le faut, pour le bien de l'ensemble des usagers.\\r\\nQuand on laisse un client plus de 6 mois vous envoyer l'ensemble des informations demandées, que l'on ne lui envoi pas de carte verte définitive pour pouvoir rouler en toute légalité, que malgré des relances à chaque refus on persiste à lui envoyer des messages automatiques et qu'au téléphone on se sait même pas trouver une solution... pour à la fin lui dire qu'il payera une assurance qu'il n'a jamais eue...\\r\\nj'estime que même le faible prix n'est pas justifié et que c'est très cher pour payer de l'incompétence ! \"]\n"
     ]
    },
    {
     "data": {
      "text/plain": [
       "1"
      ]
     },
     "execution_count": 7,
     "metadata": {},
     "output_type": "execute_result"
    }
   ],
   "source": [
    "test_original, test_note, test_produit, test_assureur = random_review_note(df, 1)\n",
    "print(test_original)\n",
    "test_note"
   ]
  },
  {
   "cell_type": "code",
   "execution_count": 8,
   "metadata": {},
   "outputs": [
    {
     "data": {
      "text/plain": [
       "'[\"si je pouvais mettre moins, je le ferai, je déteste donner un avis négatif.Mais là... il le faut, pour le bien de l\\'ensemble des usagers.Quand on laisse un client plus de 6 mois vous envoyer l\\'ensemble des informations demandées, que l\\'on ne lui envoi pas de carte verte définitive pour pouvoir rouler en toute légalité, que malgré des relances à chaque refus on persiste à lui envoyer des messages automatiques et qu\\'au téléphone on se sait même pas trouver une solution... pour à la fin lui dire qu\\'il payera une assurance qu\\'il n\\'a jamais eue...j\\'estime que même le faible prix n\\'est pas justifié et que c\\'est très cher pour payer de l\\'incompétence ! \"]'"
      ]
     },
     "execution_count": 8,
     "metadata": {},
     "output_type": "execute_result"
    }
   ],
   "source": [
    "test_original = test_original.replace('\\\\n', '')\n",
    "test_original = test_original.replace('\\\\r', '')\n",
    "test_original"
   ]
  },
  {
   "cell_type": "markdown",
   "metadata": {},
   "source": [
    "----------------------------\n",
    "##### 1- Traduction from french to english"
   ]
  },
  {
   "cell_type": "code",
   "execution_count": 25,
   "metadata": {},
   "outputs": [],
   "source": [
    "from googletrans import Translator\n",
    "translator = Translator()\n",
    "\n",
    "def translation_dest_src(review: str, source: str = 'fr', destination: str = 'en') -> str:\n",
    "    return translator.translate(str(review), src = source, dest = destination).text"
   ]
  },
  {
   "cell_type": "code",
   "execution_count": 10,
   "metadata": {},
   "outputs": [
    {
     "data": {
      "text/plain": [
       "'[\"If I could put less, I\\'ll do it, I hate give a negative opinion.But there ... it\\'s necessary, for the good of all the users.When a client is left more than 6 months send youtogether the requested information, which one does not send him a final green card to be able to ride in legality, that despite removals to each refusal we persist to send him automatic messages and that the phone we do not even knowFinding a solution ... for the end to tell him he will pay an assurance that he has never had ... I feel that even the low price is not justified and that is very expensive forpay incompetence! \"]'"
      ]
     },
     "execution_count": 10,
     "metadata": {},
     "output_type": "execute_result"
    }
   ],
   "source": [
    "test_en = translation_dest_src(test_original,\n",
    "                source = 'fr',\n",
    "                destination = 'en')\n",
    "test_en"
   ]
  },
  {
   "cell_type": "markdown",
   "metadata": {},
   "source": [
    "--------------------------------\n",
    "##### 2- Replacing a few words from the review with most similar one (using gensim most_similar)"
   ]
  },
  {
   "cell_type": "markdown",
   "metadata": {},
   "source": [
    "The idea is to pick random words in our review and replace them with similar others. We will try with a different ratio replacement to see how it reacts."
   ]
  },
  {
   "cell_type": "code",
   "execution_count": 11,
   "metadata": {},
   "outputs": [
    {
     "name": "stdout",
     "output_type": "stream",
     "text": [
      "This is something interesting : less because JJR\n",
      "This is something interesting : negative because JJ\n",
      "This is something interesting : necessary because JJ\n",
      "This is something interesting : good because JJ\n",
      "This is something interesting : more because JJR\n",
      "This is something interesting : final because JJ\n",
      "This is something interesting : green because JJ\n",
      "This is something interesting : able because JJ\n",
      "This is something interesting : automatic because JJ\n",
      "This is something interesting : low because JJ\n",
      "This is something interesting : justified because JJ\n",
      "This is something interesting : expensive because JJ\n"
     ]
    }
   ],
   "source": [
    "import nltk\n",
    "# input text\n",
    "\n",
    "# tokene into words\n",
    "tokens = nltk.word_tokenize(test_en[2:-2])\n",
    "\n",
    "# parts of speech tagging\n",
    "tagged = nltk.pos_tag(tokens)\n",
    "\n",
    "pos_tag_to_keep = ['JJ', 'JJR', 'JJS']\n",
    "for word in tagged:\n",
    "    if word[1] in pos_tag_to_keep:\n",
    "        print('This is something interesting : ' + word[0] + ' because ' + word[1])\n"
   ]
  },
  {
   "cell_type": "code",
   "execution_count": 12,
   "metadata": {},
   "outputs": [],
   "source": [
    "from random import choice\n",
    "import nltk\n",
    "\n",
    "def get_most_similar_word(word: str) -> str:\n",
    "    # Trying to get the most similar word\n",
    "    try:\n",
    "        return twitter_25_model.most_similar(word.lower())[0][0]\n",
    "    # If not returning the original word\n",
    "    except:\n",
    "        # print(\"Couldn't find the most similar word.\")\n",
    "        return word\n",
    "\n",
    "def word_replacement(review_eng: str) -> str:\n",
    "    # tokene into words\n",
    "    tokens = nltk.word_tokenize(review_eng[2:-2])\n",
    "    # parts of speech tagging\n",
    "    tagged = nltk.pos_tag(tokens)\n",
    "\n",
    "    # Counting the number of words\n",
    "    nb_words = len(tagged)\n",
    "\n",
    "    # Creating a list with the placement of changed words, so we don't change twice the same word (could result as getting back to original)\n",
    "    word_placement_changed = list()\n",
    "\n",
    "    # Replacing the original word with the most similar one if it's an adverb or an adjective\n",
    "    pos_tag_to_keep = ['JJ', 'JJR', 'JJS']\n",
    "\n",
    "    review_eng_replaced = list()\n",
    "    for word in tagged:\n",
    "        # If the word is an adverb or an adjective we replace it we a similar one\n",
    "        if word[1] in pos_tag_to_keep:\n",
    "            review_eng_replaced.append(get_most_similar_word(word[0]))\n",
    "        else: #Else we keep the same\n",
    "            review_eng_replaced.append(word[0])\n",
    "\n",
    "    return (' '.join(review_eng_replaced))"
   ]
  },
  {
   "cell_type": "code",
   "execution_count": 13,
   "metadata": {},
   "outputs": [
    {
     "data": {
      "text/plain": [
       "\"If I could put more , I 'll do it , I hate give a lack opinion.But there ... it 's easier , for the too of all the users.When a client is left enough than 6 months send youtogether the requested information , which one does not send him a champions blue card to be might to ride in legality , that despite removals to each refusal we persist to send him rear messages and that the phone we do not even knowFinding a solution ... for the end to tell him he will pay an assurance that he has never had ... I feel that even the drop price is not practiced and that is very cheap forpay incompetence !\""
      ]
     },
     "execution_count": 13,
     "metadata": {},
     "output_type": "execute_result"
    }
   ],
   "source": [
    "test_replaced = word_replacement(test_en)\n",
    "# test_replaced = test_replaced.replace('_', ' ')\n",
    "test_replaced"
   ]
  },
  {
   "cell_type": "code",
   "execution_count": 14,
   "metadata": {},
   "outputs": [
    {
     "data": {
      "text/plain": [
       "'[\"If I could put less, I\\'ll do it, I hate give a negative opinion.But there ... it\\'s necessary, for the good of all the users.When a client is left more than 6 months send youtogether the requested information, which one does not send him a final green card to be able to ride in legality, that despite removals to each refusal we persist to send him automatic messages and that the phone we do not even knowFinding a solution ... for the end to tell him he will pay an assurance that he has never had ... I feel that even the low price is not justified and that is very expensive forpay incompetence! \"]'"
      ]
     },
     "execution_count": 14,
     "metadata": {},
     "output_type": "execute_result"
    }
   ],
   "source": [
    "test_en"
   ]
  },
  {
   "cell_type": "markdown",
   "metadata": {},
   "source": [
    "--------------------------------\n",
    "##### 3- Traduction from english to french"
   ]
  },
  {
   "cell_type": "code",
   "execution_count": 15,
   "metadata": {},
   "outputs": [
    {
     "data": {
      "text/plain": [
       "\"Si je pouvais mettre plus, je le ferai, je déteste donner un manque d'opinion.mais là ... c'est plus facile, pour aussi tous les utilisateurs. Quand un client reste suffisamment de 6 mois envoyer votre demandeInformations, que l'on ne lui envoie pas une carte bleue championne pour pouvoir monter dans la légalité, malgré les déménagements à chaque refus que nous persistons à lui envoyer des messages arrière et que le téléphone que nous ne connaissons même pas une solution ... pour la finPour lui dire, il paiera une assurance qu'il n'a jamais eu ... Je sens que même le prix de la chute n'est pas pratiqué et c'est très bon marché pour incompétence de Forpay!\""
      ]
     },
     "execution_count": 15,
     "metadata": {},
     "output_type": "execute_result"
    }
   ],
   "source": [
    "test_replaced = translation_dest_src(test_replaced, source= 'en', destination= 'fr')\n",
    "test_replaced"
   ]
  },
  {
   "cell_type": "code",
   "execution_count": 16,
   "metadata": {},
   "outputs": [
    {
     "data": {
      "text/plain": [
       "'[\"si je pouvais mettre moins, je le ferai, je déteste donner un avis négatif.Mais là... il le faut, pour le bien de l\\'ensemble des usagers.Quand on laisse un client plus de 6 mois vous envoyer l\\'ensemble des informations demandées, que l\\'on ne lui envoi pas de carte verte définitive pour pouvoir rouler en toute légalité, que malgré des relances à chaque refus on persiste à lui envoyer des messages automatiques et qu\\'au téléphone on se sait même pas trouver une solution... pour à la fin lui dire qu\\'il payera une assurance qu\\'il n\\'a jamais eue...j\\'estime que même le faible prix n\\'est pas justifié et que c\\'est très cher pour payer de l\\'incompétence ! \"]'"
      ]
     },
     "execution_count": 16,
     "metadata": {},
     "output_type": "execute_result"
    }
   ],
   "source": [
    "test_original"
   ]
  },
  {
   "cell_type": "markdown",
   "metadata": {},
   "source": [
    "--------------------------------\n",
    "##### 4- Adding data with the new review to our dataset"
   ]
  },
  {
   "cell_type": "code",
   "execution_count": 17,
   "metadata": {},
   "outputs": [],
   "source": [
    "def add_row(review_processed: str, note: int, produit: str, assureur: str):\n",
    "    df.loc[len(df.index)] = ['data augmentation', note, 'data augmentation', review_processed, assureur, produit]"
   ]
  },
  {
   "cell_type": "code",
   "execution_count": 18,
   "metadata": {},
   "outputs": [
    {
     "data": {
      "text/html": [
       "<div>\n",
       "<style scoped>\n",
       "    .dataframe tbody tr th:only-of-type {\n",
       "        vertical-align: middle;\n",
       "    }\n",
       "\n",
       "    .dataframe tbody tr th {\n",
       "        vertical-align: top;\n",
       "    }\n",
       "\n",
       "    .dataframe thead th {\n",
       "        text-align: right;\n",
       "    }\n",
       "</style>\n",
       "<table border=\"1\" class=\"dataframe\">\n",
       "  <thead>\n",
       "    <tr style=\"text-align: right;\">\n",
       "      <th></th>\n",
       "      <th>date</th>\n",
       "      <th>note</th>\n",
       "      <th>auteur</th>\n",
       "      <th>avis</th>\n",
       "      <th>assureur</th>\n",
       "      <th>produit</th>\n",
       "    </tr>\n",
       "  </thead>\n",
       "  <tbody>\n",
       "    <tr>\n",
       "      <th>0</th>\n",
       "      <td>06 septem...</td>\n",
       "      <td>5</td>\n",
       "      <td>brahim--k-131532</td>\n",
       "      <td>Meilleurs assurances, prix, solutions, écoute,...</td>\n",
       "      <td>Direct Assurance</td>\n",
       "      <td>auto</td>\n",
       "    </tr>\n",
       "    <tr>\n",
       "      <th>1</th>\n",
       "      <td>03 mai 20...</td>\n",
       "      <td>4</td>\n",
       "      <td>bernard-g-112497</td>\n",
       "      <td>je suis globalement satisfait , sauf que vous ...</td>\n",
       "      <td>Direct Assurance</td>\n",
       "      <td>auto</td>\n",
       "    </tr>\n",
       "    <tr>\n",
       "      <th>2</th>\n",
       "      <td>21 mars 2...</td>\n",
       "      <td>5</td>\n",
       "      <td>virginie-t-107352</td>\n",
       "      <td>Prix tres abordable plusieurs options s'offren...</td>\n",
       "      <td>Direct Assurance</td>\n",
       "      <td>auto</td>\n",
       "    </tr>\n",
       "    <tr>\n",
       "      <th>3</th>\n",
       "      <td>10 juin 2...</td>\n",
       "      <td>4</td>\n",
       "      <td>boulain-f-116580</td>\n",
       "      <td>je satisfait du service, une réponse très rapi...</td>\n",
       "      <td>L'olivier Assurance</td>\n",
       "      <td>auto</td>\n",
       "    </tr>\n",
       "    <tr>\n",
       "      <th>4</th>\n",
       "      <td>29 janvie...</td>\n",
       "      <td>1</td>\n",
       "      <td>ouaille31-51798</td>\n",
       "      <td>Client depuis plus de 25 ans, très déçu de cet...</td>\n",
       "      <td>Matmut</td>\n",
       "      <td>auto</td>\n",
       "    </tr>\n",
       "    <tr>\n",
       "      <th>...</th>\n",
       "      <td>...</td>\n",
       "      <td>...</td>\n",
       "      <td>...</td>\n",
       "      <td>...</td>\n",
       "      <td>...</td>\n",
       "      <td>...</td>\n",
       "    </tr>\n",
       "    <tr>\n",
       "      <th>24101</th>\n",
       "      <td>06 décemb...</td>\n",
       "      <td>1</td>\n",
       "      <td>tzl-81680</td>\n",
       "      <td>Même les demandes les plus simples n'aboutisse...</td>\n",
       "      <td>Allianz</td>\n",
       "      <td>habitation</td>\n",
       "    </tr>\n",
       "    <tr>\n",
       "      <th>24102</th>\n",
       "      <td>14 avril ...</td>\n",
       "      <td>1</td>\n",
       "      <td>jmr-72500-110395</td>\n",
       "      <td>En décembre 2019, j'ai souscrit à un contrat C...</td>\n",
       "      <td>Cegema Assurances</td>\n",
       "      <td>sante</td>\n",
       "    </tr>\n",
       "    <tr>\n",
       "      <th>24103</th>\n",
       "      <td>11 juille...</td>\n",
       "      <td>3</td>\n",
       "      <td>cris-77532</td>\n",
       "      <td>Je suis assurer à la gmf depuis plus de 15 ans...</td>\n",
       "      <td>GMF</td>\n",
       "      <td>auto</td>\n",
       "    </tr>\n",
       "    <tr>\n",
       "      <th>24104</th>\n",
       "      <td>19 janvie...</td>\n",
       "      <td>1</td>\n",
       "      <td>jesse-51459</td>\n",
       "      <td>Bonjour\\r\\nMon ami vient de se faire voler sa ...</td>\n",
       "      <td>AMV</td>\n",
       "      <td>moto</td>\n",
       "    </tr>\n",
       "    <tr>\n",
       "      <th>24105</th>\n",
       "      <td>data augmentation</td>\n",
       "      <td>1</td>\n",
       "      <td>data augmentation</td>\n",
       "      <td>Si je pouvais mettre plus, je le ferai, je dét...</td>\n",
       "      <td>[\"L'olivier Assurance\"]</td>\n",
       "      <td>['auto']</td>\n",
       "    </tr>\n",
       "  </tbody>\n",
       "</table>\n",
       "<p>24106 rows × 6 columns</p>\n",
       "</div>"
      ],
      "text/plain": [
       "                                                    date  note  \\\n",
       "0                                           06 septem...     5   \n",
       "1                                           03 mai 20...     4   \n",
       "2                                           21 mars 2...     5   \n",
       "3                                           10 juin 2...     4   \n",
       "4                                           29 janvie...     1   \n",
       "...                                                  ...   ...   \n",
       "24101                                       06 décemb...     1   \n",
       "24102                                       14 avril ...     1   \n",
       "24103                                       11 juille...     3   \n",
       "24104                                       19 janvie...     1   \n",
       "24105                                  data augmentation     1   \n",
       "\n",
       "                  auteur                                               avis  \\\n",
       "0       brahim--k-131532  Meilleurs assurances, prix, solutions, écoute,...   \n",
       "1       bernard-g-112497  je suis globalement satisfait , sauf que vous ...   \n",
       "2      virginie-t-107352  Prix tres abordable plusieurs options s'offren...   \n",
       "3       boulain-f-116580  je satisfait du service, une réponse très rapi...   \n",
       "4        ouaille31-51798  Client depuis plus de 25 ans, très déçu de cet...   \n",
       "...                  ...                                                ...   \n",
       "24101          tzl-81680  Même les demandes les plus simples n'aboutisse...   \n",
       "24102   jmr-72500-110395  En décembre 2019, j'ai souscrit à un contrat C...   \n",
       "24103         cris-77532  Je suis assurer à la gmf depuis plus de 15 ans...   \n",
       "24104        jesse-51459  Bonjour\\r\\nMon ami vient de se faire voler sa ...   \n",
       "24105  data augmentation  Si je pouvais mettre plus, je le ferai, je dét...   \n",
       "\n",
       "                      assureur     produit  \n",
       "0             Direct Assurance        auto  \n",
       "1             Direct Assurance        auto  \n",
       "2             Direct Assurance        auto  \n",
       "3          L'olivier Assurance        auto  \n",
       "4                       Matmut        auto  \n",
       "...                        ...         ...  \n",
       "24101                  Allianz  habitation  \n",
       "24102        Cegema Assurances       sante  \n",
       "24103                      GMF        auto  \n",
       "24104                      AMV        moto  \n",
       "24105  [\"L'olivier Assurance\"]    ['auto']  \n",
       "\n",
       "[24106 rows x 6 columns]"
      ]
     },
     "execution_count": 18,
     "metadata": {},
     "output_type": "execute_result"
    }
   ],
   "source": [
    "add_row(test_replaced, test_note, test_produit, test_assureur)\n",
    "df"
   ]
  },
  {
   "cell_type": "markdown",
   "metadata": {},
   "source": [
    "We want to make sure all for our reviews are in french"
   ]
  },
  {
   "cell_type": "code",
   "execution_count": null,
   "metadata": {},
   "outputs": [],
   "source": []
  },
  {
   "cell_type": "markdown",
   "metadata": {},
   "source": [
    "Now let's augmente our dataset. Goal is to have a more equilibrated distribution of notes."
   ]
  },
  {
   "cell_type": "markdown",
   "metadata": {},
   "source": [
    "Reminder on the distribution :"
   ]
  },
  {
   "cell_type": "code",
   "execution_count": 19,
   "metadata": {},
   "outputs": [],
   "source": [
    "import matplotlib.pyplot as plt\n",
    "import seaborn as sns"
   ]
  },
  {
   "cell_type": "code",
   "execution_count": 20,
   "metadata": {},
   "outputs": [
    {
     "data": {
      "text/plain": [
       "<AxesSubplot:title={'center':'Répartition des notes des avis'}, xlabel='note', ylabel='count'>"
      ]
     },
     "execution_count": 20,
     "metadata": {},
     "output_type": "execute_result"
    },
    {
     "data": {
      "image/png": "[encoded data removed]",
      "text/plain": [
       "<Figure size 432x288 with 1 Axes>"
      ]
     },
     "metadata": {},
     "output_type": "display_data"
    }
   ],
   "source": [
    "sns.set_theme(style=\"darkgrid\")\n",
    "countplot_avis = sns.countplot(x = \"note\", data = df)\n",
    "countplot_avis.set_title('Répartition des notes des avis', fontsize=14)\n",
    "# Ajout du count sur la visualisation\n",
    "for p in countplot_avis.patches:\n",
    "    countplot_avis.annotate(f'\\n{p.get_height()}', (p.get_x()+0.4, p.get_height()), ha='center', va='top', color='white', size=14)\n",
    "countplot_avis"
   ]
  },
  {
   "cell_type": "markdown",
   "metadata": {},
   "source": [
    "Let's create a function that take in input the note and the number of rows we want to generate."
   ]
  },
  {
   "cell_type": "code",
   "execution_count": 21,
   "metadata": {},
   "outputs": [],
   "source": [
    "def rows_generation(note: int, nb: int):\n",
    "    i = 0\n",
    "    while i < nb:\n",
    "        # Getting a random row with a given note\n",
    "        review, note_, produit, assureur = random_review_note(df, note)\n",
    "\n",
    "        # Translating from french to english\n",
    "        review_eng = translation_dest_src(review,\n",
    "                    source = 'fr',\n",
    "                    destination = 'en')\n",
    "\n",
    "        # Replacing words\n",
    "        review_eng_processed = word_replacement(review_eng)\n",
    "        \n",
    "        # Translating from english to french\n",
    "        review_fr_processed = translation_dest_src(review_eng_processed,\n",
    "                    source = 'en',\n",
    "                    destination = 'fr')\n",
    "\n",
    "        # Adding the new row in our dataframe\n",
    "        add_row(review_fr_processed, note_, produit[2:-2], assureur[2:-2])\n",
    "\n",
    "        i += 1"
   ]
  },
  {
   "cell_type": "code",
   "execution_count": 22,
   "metadata": {},
   "outputs": [
    {
     "data": {
      "text/html": [
       "<div>\n",
       "<style scoped>\n",
       "    .dataframe tbody tr th:only-of-type {\n",
       "        vertical-align: middle;\n",
       "    }\n",
       "\n",
       "    .dataframe tbody tr th {\n",
       "        vertical-align: top;\n",
       "    }\n",
       "\n",
       "    .dataframe thead th {\n",
       "        text-align: right;\n",
       "    }\n",
       "</style>\n",
       "<table border=\"1\" class=\"dataframe\">\n",
       "  <thead>\n",
       "    <tr style=\"text-align: right;\">\n",
       "      <th></th>\n",
       "      <th>date</th>\n",
       "      <th>note</th>\n",
       "      <th>auteur</th>\n",
       "      <th>avis</th>\n",
       "      <th>assureur</th>\n",
       "      <th>produit</th>\n",
       "    </tr>\n",
       "  </thead>\n",
       "  <tbody>\n",
       "    <tr>\n",
       "      <th>0</th>\n",
       "      <td>06 septem...</td>\n",
       "      <td>5</td>\n",
       "      <td>brahim--k-131532</td>\n",
       "      <td>Meilleurs assurances, prix, solutions, écoute,...</td>\n",
       "      <td>Direct Assurance</td>\n",
       "      <td>auto</td>\n",
       "    </tr>\n",
       "    <tr>\n",
       "      <th>1</th>\n",
       "      <td>03 mai 20...</td>\n",
       "      <td>4</td>\n",
       "      <td>bernard-g-112497</td>\n",
       "      <td>je suis globalement satisfait , sauf que vous ...</td>\n",
       "      <td>Direct Assurance</td>\n",
       "      <td>auto</td>\n",
       "    </tr>\n",
       "    <tr>\n",
       "      <th>2</th>\n",
       "      <td>21 mars 2...</td>\n",
       "      <td>5</td>\n",
       "      <td>virginie-t-107352</td>\n",
       "      <td>Prix tres abordable plusieurs options s'offren...</td>\n",
       "      <td>Direct Assurance</td>\n",
       "      <td>auto</td>\n",
       "    </tr>\n",
       "    <tr>\n",
       "      <th>3</th>\n",
       "      <td>10 juin 2...</td>\n",
       "      <td>4</td>\n",
       "      <td>boulain-f-116580</td>\n",
       "      <td>je satisfait du service, une réponse très rapi...</td>\n",
       "      <td>L'olivier Assurance</td>\n",
       "      <td>auto</td>\n",
       "    </tr>\n",
       "    <tr>\n",
       "      <th>4</th>\n",
       "      <td>29 janvie...</td>\n",
       "      <td>1</td>\n",
       "      <td>ouaille31-51798</td>\n",
       "      <td>Client depuis plus de 25 ans, très déçu de cet...</td>\n",
       "      <td>Matmut</td>\n",
       "      <td>auto</td>\n",
       "    </tr>\n",
       "    <tr>\n",
       "      <th>...</th>\n",
       "      <td>...</td>\n",
       "      <td>...</td>\n",
       "      <td>...</td>\n",
       "      <td>...</td>\n",
       "      <td>...</td>\n",
       "      <td>...</td>\n",
       "    </tr>\n",
       "    <tr>\n",
       "      <th>24102</th>\n",
       "      <td>14 avril ...</td>\n",
       "      <td>1</td>\n",
       "      <td>jmr-72500-110395</td>\n",
       "      <td>En décembre 2019, j'ai souscrit à un contrat C...</td>\n",
       "      <td>Cegema Assurances</td>\n",
       "      <td>sante</td>\n",
       "    </tr>\n",
       "    <tr>\n",
       "      <th>24103</th>\n",
       "      <td>11 juille...</td>\n",
       "      <td>3</td>\n",
       "      <td>cris-77532</td>\n",
       "      <td>Je suis assurer à la gmf depuis plus de 15 ans...</td>\n",
       "      <td>GMF</td>\n",
       "      <td>auto</td>\n",
       "    </tr>\n",
       "    <tr>\n",
       "      <th>24104</th>\n",
       "      <td>19 janvie...</td>\n",
       "      <td>1</td>\n",
       "      <td>jesse-51459</td>\n",
       "      <td>Bonjour\\r\\nMon ami vient de se faire voler sa ...</td>\n",
       "      <td>AMV</td>\n",
       "      <td>moto</td>\n",
       "    </tr>\n",
       "    <tr>\n",
       "      <th>24105</th>\n",
       "      <td>data augmentation</td>\n",
       "      <td>1</td>\n",
       "      <td>data augmentation</td>\n",
       "      <td>Si je pouvais mettre plus, je le ferai, je dét...</td>\n",
       "      <td>[\"L'olivier Assurance\"]</td>\n",
       "      <td>['auto']</td>\n",
       "    </tr>\n",
       "    <tr>\n",
       "      <th>24106</th>\n",
       "      <td>data augmentation</td>\n",
       "      <td>4</td>\n",
       "      <td>data augmentation</td>\n",
       "      <td>L'interlocuteur de Khalid savait très bien rép...</td>\n",
       "      <td>Santiane</td>\n",
       "      <td>sante</td>\n",
       "    </tr>\n",
       "  </tbody>\n",
       "</table>\n",
       "<p>24107 rows × 6 columns</p>\n",
       "</div>"
      ],
      "text/plain": [
       "                                                    date  note  \\\n",
       "0                                           06 septem...     5   \n",
       "1                                           03 mai 20...     4   \n",
       "2                                           21 mars 2...     5   \n",
       "3                                           10 juin 2...     4   \n",
       "4                                           29 janvie...     1   \n",
       "...                                                  ...   ...   \n",
       "24102                                       14 avril ...     1   \n",
       "24103                                       11 juille...     3   \n",
       "24104                                       19 janvie...     1   \n",
       "24105                                  data augmentation     1   \n",
       "24106                                  data augmentation     4   \n",
       "\n",
       "                  auteur                                               avis  \\\n",
       "0       brahim--k-131532  Meilleurs assurances, prix, solutions, écoute,...   \n",
       "1       bernard-g-112497  je suis globalement satisfait , sauf que vous ...   \n",
       "2      virginie-t-107352  Prix tres abordable plusieurs options s'offren...   \n",
       "3       boulain-f-116580  je satisfait du service, une réponse très rapi...   \n",
       "4        ouaille31-51798  Client depuis plus de 25 ans, très déçu de cet...   \n",
       "...                  ...                                                ...   \n",
       "24102   jmr-72500-110395  En décembre 2019, j'ai souscrit à un contrat C...   \n",
       "24103         cris-77532  Je suis assurer à la gmf depuis plus de 15 ans...   \n",
       "24104        jesse-51459  Bonjour\\r\\nMon ami vient de se faire voler sa ...   \n",
       "24105  data augmentation  Si je pouvais mettre plus, je le ferai, je dét...   \n",
       "24106  data augmentation  L'interlocuteur de Khalid savait très bien rép...   \n",
       "\n",
       "                      assureur   produit  \n",
       "0             Direct Assurance      auto  \n",
       "1             Direct Assurance      auto  \n",
       "2             Direct Assurance      auto  \n",
       "3          L'olivier Assurance      auto  \n",
       "4                       Matmut      auto  \n",
       "...                        ...       ...  \n",
       "24102        Cegema Assurances     sante  \n",
       "24103                      GMF      auto  \n",
       "24104                      AMV      moto  \n",
       "24105  [\"L'olivier Assurance\"]  ['auto']  \n",
       "24106                 Santiane     sante  \n",
       "\n",
       "[24107 rows x 6 columns]"
      ]
     },
     "execution_count": 22,
     "metadata": {},
     "output_type": "execute_result"
    }
   ],
   "source": [
    "rows_generation(4, 1)\n",
    "df"
   ]
  },
  {
   "cell_type": "markdown",
   "metadata": {},
   "source": [
    "Let's try to have at least 4500 of each grades."
   ]
  },
  {
   "cell_type": "code",
   "execution_count": 32,
   "metadata": {},
   "outputs": [],
   "source": [
    "# For grades of 2\n",
    "nb = 5500 - len(df[df['note'] == 2])\n",
    "rows_generation(note = 2, nb = nb)"
   ]
  },
  {
   "cell_type": "code",
   "execution_count": 33,
   "metadata": {},
   "outputs": [
    {
     "data": {
      "text/plain": [
       "<AxesSubplot:title={'center':'Répartition des notes des avis'}, xlabel='note', ylabel='count'>"
      ]
     },
     "execution_count": 33,
     "metadata": {},
     "output_type": "execute_result"
    },
    {
     "data": {
      "image/png": "[encoded data removed]",
      "text/plain": [
       "<Figure size 432x288 with 1 Axes>"
      ]
     },
     "metadata": {},
     "output_type": "display_data"
    }
   ],
   "source": [
    "sns.set_theme(style=\"darkgrid\")\n",
    "countplot_avis = sns.countplot(x = \"note\", data = df)\n",
    "countplot_avis.set_title('Répartition des notes des avis', fontsize=14)\n",
    "# Ajout du count sur la visualisation\n",
    "for p in countplot_avis.patches:\n",
    "    countplot_avis.annotate(f'\\n{p.get_height()}', (p.get_x()+0.4, p.get_height()), ha='center', va='top', color='white', size=14)\n",
    "countplot_avis"
   ]
  },
  {
   "cell_type": "code",
   "execution_count": 34,
   "metadata": {},
   "outputs": [],
   "source": [
    "# For grades of 3\n",
    "nb = 5500 - len(df[df['note'] == 3])\n",
    "rows_generation(note = 3, nb = nb)"
   ]
  },
  {
   "cell_type": "code",
   "execution_count": 35,
   "metadata": {},
   "outputs": [
    {
     "data": {
      "text/plain": [
       "<AxesSubplot:title={'center':'Répartition des notes des avis'}, xlabel='note', ylabel='count'>"
      ]
     },
     "execution_count": 35,
     "metadata": {},
     "output_type": "execute_result"
    },
    {
     "data": {
      "image/png": "[encoded data removed]",
      "text/plain": [
       "<Figure size 432x288 with 1 Axes>"
      ]
     },
     "metadata": {},
     "output_type": "display_data"
    }
   ],
   "source": [
    "sns.set_theme(style=\"darkgrid\")\n",
    "countplot_avis = sns.countplot(x = \"note\", data = df)\n",
    "countplot_avis.set_title('Répartition des notes des avis', fontsize=14)\n",
    "# Ajout du count sur la visualisation\n",
    "for p in countplot_avis.patches:\n",
    "    countplot_avis.annotate(f'\\n{p.get_height()}', (p.get_x()+0.4, p.get_height()), ha='center', va='top', color='white', size=14)\n",
    "countplot_avis"
   ]
  },
  {
   "cell_type": "markdown",
   "metadata": {},
   "source": [
    "Exporting our augmented dataframe"
   ]
  },
  {
   "cell_type": "code",
   "execution_count": 36,
   "metadata": {},
   "outputs": [
    {
     "data": {
      "text/html": [
       "<div>\n",
       "<style scoped>\n",
       "    .dataframe tbody tr th:only-of-type {\n",
       "        vertical-align: middle;\n",
       "    }\n",
       "\n",
       "    .dataframe tbody tr th {\n",
       "        vertical-align: top;\n",
       "    }\n",
       "\n",
       "    .dataframe thead th {\n",
       "        text-align: right;\n",
       "    }\n",
       "</style>\n",
       "<table border=\"1\" class=\"dataframe\">\n",
       "  <thead>\n",
       "    <tr style=\"text-align: right;\">\n",
       "      <th></th>\n",
       "      <th>date</th>\n",
       "      <th>note</th>\n",
       "      <th>auteur</th>\n",
       "      <th>avis</th>\n",
       "      <th>assureur</th>\n",
       "      <th>produit</th>\n",
       "    </tr>\n",
       "  </thead>\n",
       "  <tbody>\n",
       "    <tr>\n",
       "      <th>0</th>\n",
       "      <td>06 septem...</td>\n",
       "      <td>5</td>\n",
       "      <td>brahim--k-131532</td>\n",
       "      <td>Meilleurs assurances, prix, solutions, écoute,...</td>\n",
       "      <td>Direct Assurance</td>\n",
       "      <td>auto</td>\n",
       "    </tr>\n",
       "    <tr>\n",
       "      <th>1</th>\n",
       "      <td>03 mai 20...</td>\n",
       "      <td>4</td>\n",
       "      <td>bernard-g-112497</td>\n",
       "      <td>je suis globalement satisfait , sauf que vous ...</td>\n",
       "      <td>Direct Assurance</td>\n",
       "      <td>auto</td>\n",
       "    </tr>\n",
       "    <tr>\n",
       "      <th>2</th>\n",
       "      <td>21 mars 2...</td>\n",
       "      <td>5</td>\n",
       "      <td>virginie-t-107352</td>\n",
       "      <td>Prix tres abordable plusieurs options s'offren...</td>\n",
       "      <td>Direct Assurance</td>\n",
       "      <td>auto</td>\n",
       "    </tr>\n",
       "    <tr>\n",
       "      <th>3</th>\n",
       "      <td>10 juin 2...</td>\n",
       "      <td>4</td>\n",
       "      <td>boulain-f-116580</td>\n",
       "      <td>je satisfait du service, une réponse très rapi...</td>\n",
       "      <td>L'olivier Assurance</td>\n",
       "      <td>auto</td>\n",
       "    </tr>\n",
       "    <tr>\n",
       "      <th>4</th>\n",
       "      <td>29 janvie...</td>\n",
       "      <td>1</td>\n",
       "      <td>ouaille31-51798</td>\n",
       "      <td>Client depuis plus de 25 ans, très déçu de cet...</td>\n",
       "      <td>Matmut</td>\n",
       "      <td>auto</td>\n",
       "    </tr>\n",
       "    <tr>\n",
       "      <th>...</th>\n",
       "      <td>...</td>\n",
       "      <td>...</td>\n",
       "      <td>...</td>\n",
       "      <td>...</td>\n",
       "      <td>...</td>\n",
       "      <td>...</td>\n",
       "    </tr>\n",
       "    <tr>\n",
       "      <th>28003</th>\n",
       "      <td>data augmentation</td>\n",
       "      <td>3</td>\n",
       "      <td>data augmentation</td>\n",
       "      <td>employeur temporaire si objectoire._ r \\ nne s...</td>\n",
       "      <td>Génération</td>\n",
       "      <td>sante</td>\n",
       "    </tr>\n",
       "    <tr>\n",
       "      <th>28004</th>\n",
       "      <td>data augmentation</td>\n",
       "      <td>3</td>\n",
       "      <td>data augmentation</td>\n",
       "      <td>Cela peut aller, mais le prix du prix que j'es...</td>\n",
       "      <td>Direct Assurance</td>\n",
       "      <td>auto</td>\n",
       "    </tr>\n",
       "    <tr>\n",
       "      <th>28005</th>\n",
       "      <td>data augmentation</td>\n",
       "      <td>3</td>\n",
       "      <td>data augmentation</td>\n",
       "      <td>J'ai choisi Solution Assurances parce que je v...</td>\n",
       "      <td>Direct Assurance</td>\n",
       "      <td>habitation</td>\n",
       "    </tr>\n",
       "    <tr>\n",
       "      <th>28006</th>\n",
       "      <td>data augmentation</td>\n",
       "      <td>3</td>\n",
       "      <td>data augmentation</td>\n",
       "      <td>Juste un peu de colère pour avoir à payer les ...</td>\n",
       "      <td>L'olivier Assurance</td>\n",
       "      <td>auto</td>\n",
       "    </tr>\n",
       "    <tr>\n",
       "      <th>28007</th>\n",
       "      <td>data augmentation</td>\n",
       "      <td>3</td>\n",
       "      <td>data augmentation</td>\n",
       "      <td>machine riche et compatissante créative nous a...</td>\n",
       "      <td>L'olivier Assurance</td>\n",
       "      <td>auto</td>\n",
       "    </tr>\n",
       "  </tbody>\n",
       "</table>\n",
       "<p>28008 rows × 6 columns</p>\n",
       "</div>"
      ],
      "text/plain": [
       "                                                    date  note  \\\n",
       "0                                           06 septem...     5   \n",
       "1                                           03 mai 20...     4   \n",
       "2                                           21 mars 2...     5   \n",
       "3                                           10 juin 2...     4   \n",
       "4                                           29 janvie...     1   \n",
       "...                                                  ...   ...   \n",
       "28003                                  data augmentation     3   \n",
       "28004                                  data augmentation     3   \n",
       "28005                                  data augmentation     3   \n",
       "28006                                  data augmentation     3   \n",
       "28007                                  data augmentation     3   \n",
       "\n",
       "                  auteur                                               avis  \\\n",
       "0       brahim--k-131532  Meilleurs assurances, prix, solutions, écoute,...   \n",
       "1       bernard-g-112497  je suis globalement satisfait , sauf que vous ...   \n",
       "2      virginie-t-107352  Prix tres abordable plusieurs options s'offren...   \n",
       "3       boulain-f-116580  je satisfait du service, une réponse très rapi...   \n",
       "4        ouaille31-51798  Client depuis plus de 25 ans, très déçu de cet...   \n",
       "...                  ...                                                ...   \n",
       "28003  data augmentation  employeur temporaire si objectoire._ r \\ nne s...   \n",
       "28004  data augmentation  Cela peut aller, mais le prix du prix que j'es...   \n",
       "28005  data augmentation  J'ai choisi Solution Assurances parce que je v...   \n",
       "28006  data augmentation  Juste un peu de colère pour avoir à payer les ...   \n",
       "28007  data augmentation  machine riche et compatissante créative nous a...   \n",
       "\n",
       "                  assureur     produit  \n",
       "0         Direct Assurance        auto  \n",
       "1         Direct Assurance        auto  \n",
       "2         Direct Assurance        auto  \n",
       "3      L'olivier Assurance        auto  \n",
       "4                   Matmut        auto  \n",
       "...                    ...         ...  \n",
       "28003           Génération       sante  \n",
       "28004     Direct Assurance        auto  \n",
       "28005     Direct Assurance  habitation  \n",
       "28006  L'olivier Assurance        auto  \n",
       "28007  L'olivier Assurance        auto  \n",
       "\n",
       "[28008 rows x 6 columns]"
      ]
     },
     "execution_count": 36,
     "metadata": {},
     "output_type": "execute_result"
    }
   ],
   "source": [
    "df"
   ]
  },
  {
   "cell_type": "code",
   "execution_count": 37,
   "metadata": {},
   "outputs": [],
   "source": [
    "df.to_pickle('df_augmented.pkl')"
   ]
  }
 ],
 "metadata": {
  "interpreter": {
   "hash": "0cc9f1055cb39f498be8001f189a9e7c470982dd67349dd3dfc8b1e60e90fbe8"
  },
  "kernelspec": {
   "display_name": "Python 3.9.7 64-bit ('reviews_class': conda)",
   "language": "python",
   "name": "python3"
  },
  "language_info": {
   "codemirror_mode": {
    "name": "ipython",
    "version": 3
   },
   "file_extension": ".py",
   "mimetype": "text/x-python",
   "name": "python",
   "nbconvert_exporter": "python",
   "pygments_lexer": "ipython3",
   "version": "3.9.7"
  },
  "orig_nbformat": 4
 },
 "nbformat": 4,
 "nbformat_minor": 2
}
