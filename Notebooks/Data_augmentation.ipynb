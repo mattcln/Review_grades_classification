{
 "cells": [
  {
   "cell_type": "markdown",
   "metadata": {},
   "source": [
    "## Data augmentation"
   ]
  },
  {
   "cell_type": "markdown",
   "metadata": {},
   "source": [
    "Our dataset is very badly equilibrated. The goal is to augmente the data with have in a few less-representated grades."
   ]
  },
  {
   "cell_type": "code",
   "execution_count": 68,
   "metadata": {},
   "outputs": [],
   "source": [
    "import pandas as pd\n",
    "import numpy as np"
   ]
  },
  {
   "cell_type": "code",
   "execution_count": 69,
   "metadata": {},
   "outputs": [
    {
     "data": {
      "text/html": [
       "<div>\n",
       "<style scoped>\n",
       "    .dataframe tbody tr th:only-of-type {\n",
       "        vertical-align: middle;\n",
       "    }\n",
       "\n",
       "    .dataframe tbody tr th {\n",
       "        vertical-align: top;\n",
       "    }\n",
       "\n",
       "    .dataframe thead th {\n",
       "        text-align: right;\n",
       "    }\n",
       "</style>\n",
       "<table border=\"1\" class=\"dataframe\">\n",
       "  <thead>\n",
       "    <tr style=\"text-align: right;\">\n",
       "      <th></th>\n",
       "      <th>date</th>\n",
       "      <th>note</th>\n",
       "      <th>auteur</th>\n",
       "      <th>avis</th>\n",
       "      <th>assureur</th>\n",
       "      <th>produit</th>\n",
       "    </tr>\n",
       "  </thead>\n",
       "  <tbody>\n",
       "    <tr>\n",
       "      <th>0</th>\n",
       "      <td>06 septem...</td>\n",
       "      <td>5</td>\n",
       "      <td>brahim--k-131532</td>\n",
       "      <td>Meilleurs assurances, prix, solutions, écoute,...</td>\n",
       "      <td>Direct Assurance</td>\n",
       "      <td>auto</td>\n",
       "    </tr>\n",
       "    <tr>\n",
       "      <th>1</th>\n",
       "      <td>03 mai 20...</td>\n",
       "      <td>4</td>\n",
       "      <td>bernard-g-112497</td>\n",
       "      <td>je suis globalement satisfait , sauf que vous ...</td>\n",
       "      <td>Direct Assurance</td>\n",
       "      <td>auto</td>\n",
       "    </tr>\n",
       "    <tr>\n",
       "      <th>2</th>\n",
       "      <td>21 mars 2...</td>\n",
       "      <td>5</td>\n",
       "      <td>virginie-t-107352</td>\n",
       "      <td>Prix tres abordable plusieurs options s'offren...</td>\n",
       "      <td>Direct Assurance</td>\n",
       "      <td>auto</td>\n",
       "    </tr>\n",
       "    <tr>\n",
       "      <th>3</th>\n",
       "      <td>10 juin 2...</td>\n",
       "      <td>4</td>\n",
       "      <td>boulain-f-116580</td>\n",
       "      <td>je satisfait du service, une réponse très rapi...</td>\n",
       "      <td>L'olivier Assurance</td>\n",
       "      <td>auto</td>\n",
       "    </tr>\n",
       "    <tr>\n",
       "      <th>4</th>\n",
       "      <td>29 janvie...</td>\n",
       "      <td>1</td>\n",
       "      <td>ouaille31-51798</td>\n",
       "      <td>Client depuis plus de 25 ans, très déçu de cet...</td>\n",
       "      <td>Matmut</td>\n",
       "      <td>auto</td>\n",
       "    </tr>\n",
       "    <tr>\n",
       "      <th>...</th>\n",
       "      <td>...</td>\n",
       "      <td>...</td>\n",
       "      <td>...</td>\n",
       "      <td>...</td>\n",
       "      <td>...</td>\n",
       "      <td>...</td>\n",
       "    </tr>\n",
       "    <tr>\n",
       "      <th>24100</th>\n",
       "      <td>22 mars 2...</td>\n",
       "      <td>1</td>\n",
       "      <td>hophop-107522</td>\n",
       "      <td>Assurance moto chez la mutuel des motards en F...</td>\n",
       "      <td>Mutuelle des Motards</td>\n",
       "      <td>moto</td>\n",
       "    </tr>\n",
       "    <tr>\n",
       "      <th>24101</th>\n",
       "      <td>06 décemb...</td>\n",
       "      <td>1</td>\n",
       "      <td>tzl-81680</td>\n",
       "      <td>Même les demandes les plus simples n'aboutisse...</td>\n",
       "      <td>Allianz</td>\n",
       "      <td>habitation</td>\n",
       "    </tr>\n",
       "    <tr>\n",
       "      <th>24102</th>\n",
       "      <td>14 avril ...</td>\n",
       "      <td>1</td>\n",
       "      <td>jmr-72500-110395</td>\n",
       "      <td>En décembre 2019, j'ai souscrit à un contrat C...</td>\n",
       "      <td>Cegema Assurances</td>\n",
       "      <td>sante</td>\n",
       "    </tr>\n",
       "    <tr>\n",
       "      <th>24103</th>\n",
       "      <td>11 juille...</td>\n",
       "      <td>3</td>\n",
       "      <td>cris-77532</td>\n",
       "      <td>Je suis assurer à la gmf depuis plus de 15 ans...</td>\n",
       "      <td>GMF</td>\n",
       "      <td>auto</td>\n",
       "    </tr>\n",
       "    <tr>\n",
       "      <th>24104</th>\n",
       "      <td>19 janvie...</td>\n",
       "      <td>1</td>\n",
       "      <td>jesse-51459</td>\n",
       "      <td>Bonjour\\r\\nMon ami vient de se faire voler sa ...</td>\n",
       "      <td>AMV</td>\n",
       "      <td>moto</td>\n",
       "    </tr>\n",
       "  </tbody>\n",
       "</table>\n",
       "<p>24105 rows × 6 columns</p>\n",
       "</div>"
      ],
      "text/plain": [
       "                                                    date  note  \\\n",
       "0                                           06 septem...     5   \n",
       "1                                           03 mai 20...     4   \n",
       "2                                           21 mars 2...     5   \n",
       "3                                           10 juin 2...     4   \n",
       "4                                           29 janvie...     1   \n",
       "...                                                  ...   ...   \n",
       "24100                                       22 mars 2...     1   \n",
       "24101                                       06 décemb...     1   \n",
       "24102                                       14 avril ...     1   \n",
       "24103                                       11 juille...     3   \n",
       "24104                                       19 janvie...     1   \n",
       "\n",
       "                  auteur                                               avis  \\\n",
       "0       brahim--k-131532  Meilleurs assurances, prix, solutions, écoute,...   \n",
       "1       bernard-g-112497  je suis globalement satisfait , sauf que vous ...   \n",
       "2      virginie-t-107352  Prix tres abordable plusieurs options s'offren...   \n",
       "3       boulain-f-116580  je satisfait du service, une réponse très rapi...   \n",
       "4        ouaille31-51798  Client depuis plus de 25 ans, très déçu de cet...   \n",
       "...                  ...                                                ...   \n",
       "24100      hophop-107522  Assurance moto chez la mutuel des motards en F...   \n",
       "24101          tzl-81680  Même les demandes les plus simples n'aboutisse...   \n",
       "24102   jmr-72500-110395  En décembre 2019, j'ai souscrit à un contrat C...   \n",
       "24103         cris-77532  Je suis assurer à la gmf depuis plus de 15 ans...   \n",
       "24104        jesse-51459  Bonjour\\r\\nMon ami vient de se faire voler sa ...   \n",
       "\n",
       "                   assureur     produit  \n",
       "0          Direct Assurance        auto  \n",
       "1          Direct Assurance        auto  \n",
       "2          Direct Assurance        auto  \n",
       "3       L'olivier Assurance        auto  \n",
       "4                    Matmut        auto  \n",
       "...                     ...         ...  \n",
       "24100  Mutuelle des Motards        moto  \n",
       "24101               Allianz  habitation  \n",
       "24102     Cegema Assurances       sante  \n",
       "24103                   GMF        auto  \n",
       "24104                   AMV        moto  \n",
       "\n",
       "[24105 rows x 6 columns]"
      ]
     },
     "execution_count": 69,
     "metadata": {},
     "output_type": "execute_result"
    }
   ],
   "source": [
    "df = pd.read_csv(\"..//datasets//avisassurance.csv\", encoding=\"utf-8\", sep = \";\")\n",
    "df"
   ]
  },
  {
   "cell_type": "code",
   "execution_count": 70,
   "metadata": {},
   "outputs": [],
   "source": [
    "import gensim.downloader as api"
   ]
  },
  {
   "cell_type": "code",
   "execution_count": 71,
   "metadata": {},
   "outputs": [
    {
     "data": {
      "text/plain": [
       "[('amazing', 0.9687871932983398),\n",
       " ('best', 0.9600659608840942),\n",
       " ('fun', 0.9331520795822144),\n",
       " ('fantastic', 0.9313924312591553),\n",
       " ('perfect', 0.92434161901474)]"
      ]
     },
     "execution_count": 71,
     "metadata": {},
     "output_type": "execute_result"
    }
   ],
   "source": [
    "# Biggest model\n",
    "# twitter_25_model = api.load('word2vec-google-news-300')\n",
    "\n",
    "# Smaller model but might be more efficient (language might be more revelant with tweets than with news)\n",
    "twitter_25_model = api.load('glove-twitter-25')  \n",
    "twitter_25_model.most_similar('awesome', topn=5)"
   ]
  },
  {
   "cell_type": "code",
   "execution_count": 72,
   "metadata": {},
   "outputs": [
    {
     "data": {
      "text/plain": [
       "'mad'"
      ]
     },
     "execution_count": 72,
     "metadata": {},
     "output_type": "execute_result"
    }
   ],
   "source": [
    "twitter_25_model.most_similar('crazy')[0][0]"
   ]
  },
  {
   "cell_type": "markdown",
   "metadata": {},
   "source": [
    "## Plan"
   ]
  },
  {
   "cell_type": "markdown",
   "metadata": {},
   "source": [
    "##### 1- Traduction from french to english\n",
    "##### 2- Replacing a few words from the review with most similar one (using gensim most_similar)\n",
    "##### 3- Traduction from english to french\n",
    "##### 4- Adding data with the new review to our dataset"
   ]
  },
  {
   "cell_type": "markdown",
   "metadata": {},
   "source": [
    "Choosing a test review randomly"
   ]
  },
  {
   "cell_type": "code",
   "execution_count": 73,
   "metadata": {},
   "outputs": [],
   "source": [
    "def random_review_note(df, note:int) -> list():\n",
    "    row = df[df['note'] == note].sample(n=1)\n",
    "    avis = str(row['avis'].values)\n",
    "    note = int(row['note'].values)\n",
    "    produit = str(row['produit'].values)\n",
    "    assureur = str(row['assureur'].values)\n",
    "    return [avis, note, produit, assureur]"
   ]
  },
  {
   "cell_type": "code",
   "execution_count": 74,
   "metadata": {},
   "outputs": [
    {
     "name": "stdout",
     "output_type": "stream",
     "text": [
      "[\"Assurance assez chère.\\r\\nCommunication assez difficile.\\r\\nTrès compliqué de résilier une assurance chez eux, ils ont toujours un prétexte (bidon) pour ne pas résilier l'assurance.\\r\\nA FUIR !!!\"]\n"
     ]
    },
    {
     "data": {
      "text/plain": [
       "1"
      ]
     },
     "execution_count": 74,
     "metadata": {},
     "output_type": "execute_result"
    }
   ],
   "source": [
    "test_original, test_note, test_produit, test_assureur = random_review_note(df, 1)\n",
    "print(test_original)\n",
    "test_note"
   ]
  },
  {
   "cell_type": "code",
   "execution_count": 75,
   "metadata": {},
   "outputs": [
    {
     "data": {
      "text/plain": [
       "'[\"Assurance assez chère.Communication assez difficile.Très compliqué de résilier une assurance chez eux, ils ont toujours un prétexte (bidon) pour ne pas résilier l\\'assurance.A FUIR !!!\"]'"
      ]
     },
     "execution_count": 75,
     "metadata": {},
     "output_type": "execute_result"
    }
   ],
   "source": [
    "test_original = test_original.replace('\\\\n', '')\n",
    "test_original = test_original.replace('\\\\r', '')\n",
    "test_original"
   ]
  },
  {
   "cell_type": "markdown",
   "metadata": {},
   "source": [
    "----------------------------\n",
    "##### 1- Traduction from french to english"
   ]
  },
  {
   "cell_type": "code",
   "execution_count": 76,
   "metadata": {},
   "outputs": [],
   "source": [
    "from googletrans import Translator\n",
    "translator = Translator()\n",
    "\n",
    "def translation_dest_src(review: str, source: str = 'fr', destination: str = 'en') -> str:\n",
    "    return translator.translate(review, src = source, dest = destination).text"
   ]
  },
  {
   "cell_type": "code",
   "execution_count": 77,
   "metadata": {},
   "outputs": [
    {
     "data": {
      "text/plain": [
       "'[\"Insurance quite expensive. Communication quite difficult.Very complicated to cancel insurance at home, they always have a pretext (can) not to cancel insurance.A flee !!!\"]'"
      ]
     },
     "execution_count": 77,
     "metadata": {},
     "output_type": "execute_result"
    }
   ],
   "source": [
    "test_en = translation_dest_src(test_original,\n",
    "                source = 'fr',\n",
    "                destination = 'en')\n",
    "test_en"
   ]
  },
  {
   "cell_type": "markdown",
   "metadata": {},
   "source": [
    "--------------------------------\n",
    "##### 2- Replacing a few words from the review with most similar one (using gensim most_similar)"
   ]
  },
  {
   "cell_type": "markdown",
   "metadata": {},
   "source": [
    "The idea is to pick random words in our review and replace them with similar others. We will try with a different ratio replacement to see how it reacts."
   ]
  },
  {
   "cell_type": "code",
   "execution_count": 78,
   "metadata": {},
   "outputs": [],
   "source": [
    "from random import choice\n",
    "\n",
    "def get_most_similar_word(word: str) -> str:\n",
    "    # Trying to get the most similar word\n",
    "    try:\n",
    "        return twitter_25_model.most_similar(word.lower())[0][0]\n",
    "    # If not returning the original word\n",
    "    except:\n",
    "        # print(\"Couldn't find the most similar word.\")\n",
    "        return word\n",
    "\n",
    "def word_replacement(review_eng: str, replacement_ratio: float = 0.5) -> str:\n",
    "    # Splitting the review by words and counting the number of words\n",
    "    review_eng_words = review_eng.split()\n",
    "    nb_words = len(review_eng_words)\n",
    "\n",
    "    # Counting the number of words to replace\n",
    "    nb_words_to_change = int(nb_words*replacement_ratio)\n",
    "\n",
    "    # Creating a list with the placement of changed words, so we don't change twice the same word (could result as getting back to original)\n",
    "    word_placement_changed = list()\n",
    "    for words in range(nb_words_to_change):\n",
    "        # Getting a random int as the word to change\n",
    "        word_placement = choice([_ for _ in range(nb_words) if _ not in word_placement_changed])\n",
    "\n",
    "        # Replacing the original word with the most similar one\n",
    "        review_eng_words[word_placement] = get_most_similar_word(review_eng_words[word_placement])\n",
    "\n",
    "        # Appending the word placement in our list to avoid changing twice the same\n",
    "        word_placement_changed.append(word_placement)\n",
    "        # print(' '.join(review_eng_words))\n",
    "\n",
    "    return (' '.join(review_eng_words))"
   ]
  },
  {
   "cell_type": "code",
   "execution_count": 79,
   "metadata": {},
   "outputs": [
    {
     "data": {
      "text/plain": [
       "'[\"Insurance although expensive. Communication although difficult.Very complicated to cancel exchange home home, n\\'t \\'re have no dissent (can) not to cancel insurance.A flee !!!\"]'"
      ]
     },
     "execution_count": 79,
     "metadata": {},
     "output_type": "execute_result"
    }
   ],
   "source": [
    "test_replaced = word_replacement(test_en, 0.5)\n",
    "test_replaced = test_replaced.replace('_', ' ')\n",
    "test_replaced"
   ]
  },
  {
   "cell_type": "markdown",
   "metadata": {},
   "source": [
    "--------------------------------\n",
    "##### 3- Traduction from english to french"
   ]
  },
  {
   "cell_type": "code",
   "execution_count": 80,
   "metadata": {},
   "outputs": [
    {
     "data": {
      "text/plain": [
       "'[\"Assurance bien que coûteux. Communication Bien que difficile.Très compliqué à annuler Exchange Home Home, il n\\'a pas de dissidence (peut) ne pas annuler l\\'assurance.a fuir !!!\"]'"
      ]
     },
     "execution_count": 80,
     "metadata": {},
     "output_type": "execute_result"
    }
   ],
   "source": [
    "test_replaced = translation_dest_src(test_replaced, source= 'en', destination= 'fr')\n",
    "test_replaced"
   ]
  },
  {
   "cell_type": "code",
   "execution_count": 81,
   "metadata": {},
   "outputs": [
    {
     "data": {
      "text/plain": [
       "'[\"Assurance assez chère.Communication assez difficile.Très compliqué de résilier une assurance chez eux, ils ont toujours un prétexte (bidon) pour ne pas résilier l\\'assurance.A FUIR !!!\"]'"
      ]
     },
     "execution_count": 81,
     "metadata": {},
     "output_type": "execute_result"
    }
   ],
   "source": [
    "test_original"
   ]
  },
  {
   "cell_type": "markdown",
   "metadata": {},
   "source": [
    "--------------------------------\n",
    "##### 4- Adding data with the new review to our dataset"
   ]
  },
  {
   "cell_type": "code",
   "execution_count": 82,
   "metadata": {},
   "outputs": [],
   "source": [
    "def add_row(review: str, note: int, produit: str, assureur: str):\n",
    "    df.loc[len(df.index)] = ['data augmentation', note, 'data augmentation', review, assureur, produit]"
   ]
  },
  {
   "cell_type": "code",
   "execution_count": 83,
   "metadata": {},
   "outputs": [
    {
     "data": {
      "text/html": [
       "<div>\n",
       "<style scoped>\n",
       "    .dataframe tbody tr th:only-of-type {\n",
       "        vertical-align: middle;\n",
       "    }\n",
       "\n",
       "    .dataframe tbody tr th {\n",
       "        vertical-align: top;\n",
       "    }\n",
       "\n",
       "    .dataframe thead th {\n",
       "        text-align: right;\n",
       "    }\n",
       "</style>\n",
       "<table border=\"1\" class=\"dataframe\">\n",
       "  <thead>\n",
       "    <tr style=\"text-align: right;\">\n",
       "      <th></th>\n",
       "      <th>date</th>\n",
       "      <th>note</th>\n",
       "      <th>auteur</th>\n",
       "      <th>avis</th>\n",
       "      <th>assureur</th>\n",
       "      <th>produit</th>\n",
       "    </tr>\n",
       "  </thead>\n",
       "  <tbody>\n",
       "    <tr>\n",
       "      <th>0</th>\n",
       "      <td>06 septem...</td>\n",
       "      <td>5</td>\n",
       "      <td>brahim--k-131532</td>\n",
       "      <td>Meilleurs assurances, prix, solutions, écoute,...</td>\n",
       "      <td>Direct Assurance</td>\n",
       "      <td>auto</td>\n",
       "    </tr>\n",
       "    <tr>\n",
       "      <th>1</th>\n",
       "      <td>03 mai 20...</td>\n",
       "      <td>4</td>\n",
       "      <td>bernard-g-112497</td>\n",
       "      <td>je suis globalement satisfait , sauf que vous ...</td>\n",
       "      <td>Direct Assurance</td>\n",
       "      <td>auto</td>\n",
       "    </tr>\n",
       "    <tr>\n",
       "      <th>2</th>\n",
       "      <td>21 mars 2...</td>\n",
       "      <td>5</td>\n",
       "      <td>virginie-t-107352</td>\n",
       "      <td>Prix tres abordable plusieurs options s'offren...</td>\n",
       "      <td>Direct Assurance</td>\n",
       "      <td>auto</td>\n",
       "    </tr>\n",
       "    <tr>\n",
       "      <th>3</th>\n",
       "      <td>10 juin 2...</td>\n",
       "      <td>4</td>\n",
       "      <td>boulain-f-116580</td>\n",
       "      <td>je satisfait du service, une réponse très rapi...</td>\n",
       "      <td>L'olivier Assurance</td>\n",
       "      <td>auto</td>\n",
       "    </tr>\n",
       "    <tr>\n",
       "      <th>4</th>\n",
       "      <td>29 janvie...</td>\n",
       "      <td>1</td>\n",
       "      <td>ouaille31-51798</td>\n",
       "      <td>Client depuis plus de 25 ans, très déçu de cet...</td>\n",
       "      <td>Matmut</td>\n",
       "      <td>auto</td>\n",
       "    </tr>\n",
       "    <tr>\n",
       "      <th>...</th>\n",
       "      <td>...</td>\n",
       "      <td>...</td>\n",
       "      <td>...</td>\n",
       "      <td>...</td>\n",
       "      <td>...</td>\n",
       "      <td>...</td>\n",
       "    </tr>\n",
       "    <tr>\n",
       "      <th>24101</th>\n",
       "      <td>06 décemb...</td>\n",
       "      <td>1</td>\n",
       "      <td>tzl-81680</td>\n",
       "      <td>Même les demandes les plus simples n'aboutisse...</td>\n",
       "      <td>Allianz</td>\n",
       "      <td>habitation</td>\n",
       "    </tr>\n",
       "    <tr>\n",
       "      <th>24102</th>\n",
       "      <td>14 avril ...</td>\n",
       "      <td>1</td>\n",
       "      <td>jmr-72500-110395</td>\n",
       "      <td>En décembre 2019, j'ai souscrit à un contrat C...</td>\n",
       "      <td>Cegema Assurances</td>\n",
       "      <td>sante</td>\n",
       "    </tr>\n",
       "    <tr>\n",
       "      <th>24103</th>\n",
       "      <td>11 juille...</td>\n",
       "      <td>3</td>\n",
       "      <td>cris-77532</td>\n",
       "      <td>Je suis assurer à la gmf depuis plus de 15 ans...</td>\n",
       "      <td>GMF</td>\n",
       "      <td>auto</td>\n",
       "    </tr>\n",
       "    <tr>\n",
       "      <th>24104</th>\n",
       "      <td>19 janvie...</td>\n",
       "      <td>1</td>\n",
       "      <td>jesse-51459</td>\n",
       "      <td>Bonjour\\r\\nMon ami vient de se faire voler sa ...</td>\n",
       "      <td>AMV</td>\n",
       "      <td>moto</td>\n",
       "    </tr>\n",
       "    <tr>\n",
       "      <th>24105</th>\n",
       "      <td>data augmentation</td>\n",
       "      <td>1</td>\n",
       "      <td>data augmentation</td>\n",
       "      <td>[\"Assurance bien que coûteux. Communication Bi...</td>\n",
       "      <td>['Pacifica']</td>\n",
       "      <td>['auto']</td>\n",
       "    </tr>\n",
       "  </tbody>\n",
       "</table>\n",
       "<p>24106 rows × 6 columns</p>\n",
       "</div>"
      ],
      "text/plain": [
       "                                                    date  note  \\\n",
       "0                                           06 septem...     5   \n",
       "1                                           03 mai 20...     4   \n",
       "2                                           21 mars 2...     5   \n",
       "3                                           10 juin 2...     4   \n",
       "4                                           29 janvie...     1   \n",
       "...                                                  ...   ...   \n",
       "24101                                       06 décemb...     1   \n",
       "24102                                       14 avril ...     1   \n",
       "24103                                       11 juille...     3   \n",
       "24104                                       19 janvie...     1   \n",
       "24105                                  data augmentation     1   \n",
       "\n",
       "                  auteur                                               avis  \\\n",
       "0       brahim--k-131532  Meilleurs assurances, prix, solutions, écoute,...   \n",
       "1       bernard-g-112497  je suis globalement satisfait , sauf que vous ...   \n",
       "2      virginie-t-107352  Prix tres abordable plusieurs options s'offren...   \n",
       "3       boulain-f-116580  je satisfait du service, une réponse très rapi...   \n",
       "4        ouaille31-51798  Client depuis plus de 25 ans, très déçu de cet...   \n",
       "...                  ...                                                ...   \n",
       "24101          tzl-81680  Même les demandes les plus simples n'aboutisse...   \n",
       "24102   jmr-72500-110395  En décembre 2019, j'ai souscrit à un contrat C...   \n",
       "24103         cris-77532  Je suis assurer à la gmf depuis plus de 15 ans...   \n",
       "24104        jesse-51459  Bonjour\\r\\nMon ami vient de se faire voler sa ...   \n",
       "24105  data augmentation  [\"Assurance bien que coûteux. Communication Bi...   \n",
       "\n",
       "                  assureur     produit  \n",
       "0         Direct Assurance        auto  \n",
       "1         Direct Assurance        auto  \n",
       "2         Direct Assurance        auto  \n",
       "3      L'olivier Assurance        auto  \n",
       "4                   Matmut        auto  \n",
       "...                    ...         ...  \n",
       "24101              Allianz  habitation  \n",
       "24102    Cegema Assurances       sante  \n",
       "24103                  GMF        auto  \n",
       "24104                  AMV        moto  \n",
       "24105         ['Pacifica']    ['auto']  \n",
       "\n",
       "[24106 rows x 6 columns]"
      ]
     },
     "execution_count": 83,
     "metadata": {},
     "output_type": "execute_result"
    }
   ],
   "source": [
    "add_row(test_replaced, test_note, test_produit, test_assureur)\n",
    "df"
   ]
  },
  {
   "cell_type": "markdown",
   "metadata": {},
   "source": [
    "Now let's augmente our dataset. Goal is to have a more equilibrated distribution of notes."
   ]
  },
  {
   "cell_type": "markdown",
   "metadata": {},
   "source": [
    "Reminder on the distribution :"
   ]
  },
  {
   "cell_type": "code",
   "execution_count": 84,
   "metadata": {},
   "outputs": [],
   "source": [
    "import matplotlib.pyplot as plt\n",
    "import seaborn as sns"
   ]
  },
  {
   "cell_type": "code",
   "execution_count": 85,
   "metadata": {},
   "outputs": [
    {
     "data": {
      "text/plain": [
       "<AxesSubplot:title={'center':'Répartition des notes des avis'}, xlabel='note', ylabel='count'>"
      ]
     },
     "execution_count": 85,
     "metadata": {},
     "output_type": "execute_result"
    },
    {
     "data": {
      "image/png": "[encoded data removed]",
      "text/plain": [
       "<Figure size 432x288 with 1 Axes>"
      ]
     },
     "metadata": {},
     "output_type": "display_data"
    }
   ],
   "source": [
    "sns.set_theme(style=\"darkgrid\")\n",
    "countplot_avis = sns.countplot(x = \"note\", data = df)\n",
    "countplot_avis.set_title('Répartition des notes des avis', fontsize=14)\n",
    "# Ajout du count sur la visualisation\n",
    "for p in countplot_avis.patches:\n",
    "    countplot_avis.annotate(f'\\n{p.get_height()}', (p.get_x()+0.4, p.get_height()), ha='center', va='top', color='white', size=14)\n",
    "countplot_avis"
   ]
  },
  {
   "cell_type": "markdown",
   "metadata": {},
   "source": [
    "Let's create a function that take in input the note and the number of rows we want to generate."
   ]
  },
  {
   "cell_type": "code",
   "execution_count": 86,
   "metadata": {},
   "outputs": [],
   "source": [
    "def rows_generation(note: int, nb: int, replacement_ratio: float = 0.4):\n",
    "    i = 0\n",
    "    while i < nb:\n",
    "        # Getting a random row with a given note\n",
    "        review, note, produit, assureur = random_review_note(df, note)\n",
    "\n",
    "        # Translating from french to english\n",
    "        review = translation_dest_src(review,\n",
    "                    source = 'fr',\n",
    "                    destination = 'en')\n",
    "\n",
    "        # Replacing words\n",
    "        review = word_replacement(review, replacement_ratio)\n",
    "\n",
    "        # Translating from english to french\n",
    "        review = translation_dest_src(review,\n",
    "                    source = 'en',\n",
    "                    destination = 'fr')\n",
    "\n",
    "        # Adding the new row in our dataframe\n",
    "        # print (review)\n",
    "        add_row(review[2:-2], note, produit[2:-2], assureur[2:-2])\n",
    "\n",
    "        i += 1"
   ]
  },
  {
   "cell_type": "code",
   "execution_count": 87,
   "metadata": {},
   "outputs": [
    {
     "data": {
      "text/html": [
       "<div>\n",
       "<style scoped>\n",
       "    .dataframe tbody tr th:only-of-type {\n",
       "        vertical-align: middle;\n",
       "    }\n",
       "\n",
       "    .dataframe tbody tr th {\n",
       "        vertical-align: top;\n",
       "    }\n",
       "\n",
       "    .dataframe thead th {\n",
       "        text-align: right;\n",
       "    }\n",
       "</style>\n",
       "<table border=\"1\" class=\"dataframe\">\n",
       "  <thead>\n",
       "    <tr style=\"text-align: right;\">\n",
       "      <th></th>\n",
       "      <th>date</th>\n",
       "      <th>note</th>\n",
       "      <th>auteur</th>\n",
       "      <th>avis</th>\n",
       "      <th>assureur</th>\n",
       "      <th>produit</th>\n",
       "    </tr>\n",
       "  </thead>\n",
       "  <tbody>\n",
       "    <tr>\n",
       "      <th>0</th>\n",
       "      <td>06 septem...</td>\n",
       "      <td>5</td>\n",
       "      <td>brahim--k-131532</td>\n",
       "      <td>Meilleurs assurances, prix, solutions, écoute,...</td>\n",
       "      <td>Direct Assurance</td>\n",
       "      <td>auto</td>\n",
       "    </tr>\n",
       "    <tr>\n",
       "      <th>1</th>\n",
       "      <td>03 mai 20...</td>\n",
       "      <td>4</td>\n",
       "      <td>bernard-g-112497</td>\n",
       "      <td>je suis globalement satisfait , sauf que vous ...</td>\n",
       "      <td>Direct Assurance</td>\n",
       "      <td>auto</td>\n",
       "    </tr>\n",
       "    <tr>\n",
       "      <th>2</th>\n",
       "      <td>21 mars 2...</td>\n",
       "      <td>5</td>\n",
       "      <td>virginie-t-107352</td>\n",
       "      <td>Prix tres abordable plusieurs options s'offren...</td>\n",
       "      <td>Direct Assurance</td>\n",
       "      <td>auto</td>\n",
       "    </tr>\n",
       "    <tr>\n",
       "      <th>3</th>\n",
       "      <td>10 juin 2...</td>\n",
       "      <td>4</td>\n",
       "      <td>boulain-f-116580</td>\n",
       "      <td>je satisfait du service, une réponse très rapi...</td>\n",
       "      <td>L'olivier Assurance</td>\n",
       "      <td>auto</td>\n",
       "    </tr>\n",
       "    <tr>\n",
       "      <th>4</th>\n",
       "      <td>29 janvie...</td>\n",
       "      <td>1</td>\n",
       "      <td>ouaille31-51798</td>\n",
       "      <td>Client depuis plus de 25 ans, très déçu de cet...</td>\n",
       "      <td>Matmut</td>\n",
       "      <td>auto</td>\n",
       "    </tr>\n",
       "    <tr>\n",
       "      <th>...</th>\n",
       "      <td>...</td>\n",
       "      <td>...</td>\n",
       "      <td>...</td>\n",
       "      <td>...</td>\n",
       "      <td>...</td>\n",
       "      <td>...</td>\n",
       "    </tr>\n",
       "    <tr>\n",
       "      <th>24111</th>\n",
       "      <td>data augmentation</td>\n",
       "      <td>3</td>\n",
       "      <td>data augmentation</td>\n",
       "      <td>Ne rembourse pas sans facture qui ne demande j...</td>\n",
       "      <td>Mercer</td>\n",
       "      <td>sante</td>\n",
       "    </tr>\n",
       "    <tr>\n",
       "      <th>24112</th>\n",
       "      <td>data augmentation</td>\n",
       "      <td>3</td>\n",
       "      <td>data augmentation</td>\n",
       "      <td>Je suis faute de la faute ... Suite d'attaquer...</td>\n",
       "      <td>Matmut</td>\n",
       "      <td>habitation</td>\n",
       "    </tr>\n",
       "    <tr>\n",
       "      <th>24113</th>\n",
       "      <td>data augmentation</td>\n",
       "      <td>3</td>\n",
       "      <td>data augmentation</td>\n",
       "      <td>« » Bonjour, \\ r \\ r \\ b \\ r _ ntle de mon voi...</td>\n",
       "      <td>MACIF</td>\n",
       "      <td>auto</td>\n",
       "    </tr>\n",
       "    <tr>\n",
       "      <th>24114</th>\n",
       "      <td>data augmentation</td>\n",
       "      <td>3</td>\n",
       "      <td>data augmentation</td>\n",
       "      <td>Je suis satisfait, mais je pense que cela aura...</td>\n",
       "      <td>Direct Assurance</td>\n",
       "      <td>auto</td>\n",
       "    </tr>\n",
       "    <tr>\n",
       "      <th>24115</th>\n",
       "      <td>data augmentation</td>\n",
       "      <td>3</td>\n",
       "      <td>data augmentation</td>\n",
       "      <td>Je suis déjà souscrit le 1er janvier à Neolian...</td>\n",
       "      <td>Néoliane Santé</td>\n",
       "      <td>sante</td>\n",
       "    </tr>\n",
       "  </tbody>\n",
       "</table>\n",
       "<p>24116 rows × 6 columns</p>\n",
       "</div>"
      ],
      "text/plain": [
       "                                                    date  note  \\\n",
       "0                                           06 septem...     5   \n",
       "1                                           03 mai 20...     4   \n",
       "2                                           21 mars 2...     5   \n",
       "3                                           10 juin 2...     4   \n",
       "4                                           29 janvie...     1   \n",
       "...                                                  ...   ...   \n",
       "24111                                  data augmentation     3   \n",
       "24112                                  data augmentation     3   \n",
       "24113                                  data augmentation     3   \n",
       "24114                                  data augmentation     3   \n",
       "24115                                  data augmentation     3   \n",
       "\n",
       "                  auteur                                               avis  \\\n",
       "0       brahim--k-131532  Meilleurs assurances, prix, solutions, écoute,...   \n",
       "1       bernard-g-112497  je suis globalement satisfait , sauf que vous ...   \n",
       "2      virginie-t-107352  Prix tres abordable plusieurs options s'offren...   \n",
       "3       boulain-f-116580  je satisfait du service, une réponse très rapi...   \n",
       "4        ouaille31-51798  Client depuis plus de 25 ans, très déçu de cet...   \n",
       "...                  ...                                                ...   \n",
       "24111  data augmentation  Ne rembourse pas sans facture qui ne demande j...   \n",
       "24112  data augmentation  Je suis faute de la faute ... Suite d'attaquer...   \n",
       "24113  data augmentation  « » Bonjour, \\ r \\ r \\ b \\ r _ ntle de mon voi...   \n",
       "24114  data augmentation  Je suis satisfait, mais je pense que cela aura...   \n",
       "24115  data augmentation  Je suis déjà souscrit le 1er janvier à Neolian...   \n",
       "\n",
       "                  assureur     produit  \n",
       "0         Direct Assurance        auto  \n",
       "1         Direct Assurance        auto  \n",
       "2         Direct Assurance        auto  \n",
       "3      L'olivier Assurance        auto  \n",
       "4                   Matmut        auto  \n",
       "...                    ...         ...  \n",
       "24111               Mercer       sante  \n",
       "24112               Matmut  habitation  \n",
       "24113                MACIF        auto  \n",
       "24114     Direct Assurance        auto  \n",
       "24115       Néoliane Santé       sante  \n",
       "\n",
       "[24116 rows x 6 columns]"
      ]
     },
     "execution_count": 87,
     "metadata": {},
     "output_type": "execute_result"
    }
   ],
   "source": [
    "rows_generation(3, 10, 0.2)\n",
    "df"
   ]
  },
  {
   "cell_type": "markdown",
   "metadata": {},
   "source": [
    "Let's try to have at least 4500 of each grades."
   ]
  },
  {
   "cell_type": "code",
   "execution_count": 88,
   "metadata": {},
   "outputs": [],
   "source": [
    "# For grades of 2\n",
    "nb = 4500 - len(df[df['note'] == 2])\n",
    "rows_generation(note = 2, nb = nb)"
   ]
  },
  {
   "cell_type": "code",
   "execution_count": 89,
   "metadata": {},
   "outputs": [
    {
     "data": {
      "text/plain": [
       "<AxesSubplot:title={'center':'Répartition des notes des avis'}, xlabel='note', ylabel='count'>"
      ]
     },
     "execution_count": 89,
     "metadata": {},
     "output_type": "execute_result"
    },
    {
     "data": {
      "image/png": "[encoded data removed]",
      "text/plain": [
       "<Figure size 432x288 with 1 Axes>"
      ]
     },
     "metadata": {},
     "output_type": "display_data"
    }
   ],
   "source": [
    "sns.set_theme(style=\"darkgrid\")\n",
    "countplot_avis = sns.countplot(x = \"note\", data = df)\n",
    "countplot_avis.set_title('Répartition des notes des avis', fontsize=14)\n",
    "# Ajout du count sur la visualisation\n",
    "for p in countplot_avis.patches:\n",
    "    countplot_avis.annotate(f'\\n{p.get_height()}', (p.get_x()+0.4, p.get_height()), ha='center', va='top', color='white', size=14)\n",
    "countplot_avis"
   ]
  },
  {
   "cell_type": "code",
   "execution_count": 92,
   "metadata": {},
   "outputs": [],
   "source": [
    "# For grades of 3\n",
    "nb = 4500 - len(df[df['note'] == 3])\n",
    "rows_generation(note = 3, nb = nb)"
   ]
  },
  {
   "cell_type": "code",
   "execution_count": 94,
   "metadata": {},
   "outputs": [
    {
     "data": {
      "text/plain": [
       "<AxesSubplot:title={'center':'Répartition des notes des avis'}, xlabel='note', ylabel='count'>"
      ]
     },
     "execution_count": 94,
     "metadata": {},
     "output_type": "execute_result"
    },
    {
     "data": {
      "image/png": "[encoded data removed]",
      "text/plain": [
       "<Figure size 432x288 with 1 Axes>"
      ]
     },
     "metadata": {},
     "output_type": "display_data"
    }
   ],
   "source": [
    "sns.set_theme(style=\"darkgrid\")\n",
    "countplot_avis = sns.countplot(x = \"note\", data = df)\n",
    "countplot_avis.set_title('Répartition des notes des avis', fontsize=14)\n",
    "# Ajout du count sur la visualisation\n",
    "for p in countplot_avis.patches:\n",
    "    countplot_avis.annotate(f'\\n{p.get_height()}', (p.get_x()+0.4, p.get_height()), ha='center', va='top', color='white', size=14)\n",
    "countplot_avis"
   ]
  },
  {
   "cell_type": "markdown",
   "metadata": {},
   "source": [
    "Exporting our augmented dataframe"
   ]
  },
  {
   "cell_type": "code",
   "execution_count": 95,
   "metadata": {},
   "outputs": [],
   "source": [
    "df.to_pickle('df_augmented.pkl')"
   ]
  }
 ],
 "metadata": {
  "interpreter": {
   "hash": "0cc9f1055cb39f498be8001f189a9e7c470982dd67349dd3dfc8b1e60e90fbe8"
  },
  "kernelspec": {
   "display_name": "Python 3.9.7 64-bit ('reviews_class': conda)",
   "language": "python",
   "name": "python3"
  },
  "language_info": {
   "codemirror_mode": {
    "name": "ipython",
    "version": 3
   },
   "file_extension": ".py",
   "mimetype": "text/x-python",
   "name": "python",
   "nbconvert_exporter": "python",
   "pygments_lexer": "ipython3",
   "version": "3.9.7"
  },
  "orig_nbformat": 4
 },
 "nbformat": 4,
 "nbformat_minor": 2
}
